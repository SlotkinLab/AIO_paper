{
 "cells": [
  {
   "cell_type": "code",
   "execution_count": 21,
   "metadata": {},
   "outputs": [],
   "source": [
    "from numpy import array\n",
    "import time\n",
    "import os\n",
    "from itertools import product\n",
    "import pandas as pd\n",
    "import matplotlib.pyplot as plt\n",
    "import numpy as np\n",
    "import seaborn as sns\n",
    "from matplotlib.colors import ListedColormap\n",
    "import pickle\n",
    "\n",
    "\n",
    "from sklearn.model_selection import train_test_split\n",
    "from sklearn.model_selection import cross_val_score\n",
    "from sklearn import metrics\n",
    "\n",
    "from sklearn.ensemble import RandomForestClassifier\n",
    "from sklearn.inspection import permutation_importance\n",
    "\n",
    "\n",
    "#Model Performance Evaluators\n",
    "from sklearn.metrics import classification_report \n",
    "from sklearn.metrics import confusion_matrix \n",
    "from sklearn.metrics import accuracy_score \n",
    "from sklearn.metrics import roc_curve, auc\n",
    "from sklearn.metrics import roc_auc_score\n",
    "from sklearn.metrics import RocCurveDisplay\n",
    "\n",
    "from sklearn.utils.class_weight import compute_class_weight\n",
    "\n",
    "from joblib import parallel_backend\n",
    "from joblib import Parallel, delayed\n"
   ]
  },
  {
   "cell_type": "code",
   "execution_count": 22,
   "metadata": {},
   "outputs": [
    {
     "name": "stdout",
     "output_type": "stream",
     "text": [
      "loading model >>>>>>>>>>>>>>>>>>>>>>>>>>>>>>>>>>>>>\n"
     ]
    }
   ],
   "source": [
    "print('loading model >>>>>>>>>>>>>>>>>>>>>>>>>>>>>>>>>>>>>')\n",
    "\n",
    "\n",
    "mfilename='/cluster/pixstor/slotkinr-lab/sandaruwan/rubyRF/WT_dcr_red/wtdcrModels/rfc_WTvdcr_comb_tetra_set1_v1.pkl'\n",
    "# load the model from disk\n",
    "rfc_set1 = pickle.load(open(mfilename, 'rb'))"
   ]
  },
  {
   "cell_type": "code",
   "execution_count": 23,
   "metadata": {},
   "outputs": [
    {
     "name": "stdout",
     "output_type": "stream",
     "text": [
      "loading data >>>>>>>>>>>>>>>>>>>>>>>>>>>>>>>>>>>>>\n",
      "input shape: >>>>>>>>>>>>>>>>>>>>>>>>>>>>>>>>>>>>>\n",
      "<class 'pandas.core.frame.DataFrame'>\n",
      "RangeIndex: 2762728 entries, 0 to 2762727\n",
      "Columns: 262 entries, seq_id to TTTT\n",
      "dtypes: int64(261), object(1)\n",
      "memory usage: 5.4+ GB\n"
     ]
    }
   ],
   "source": [
    "print('loading data >>>>>>>>>>>>>>>>>>>>>>>>>>>>>>>>>>>>>')\n",
    "\n",
    "\n",
    "dcr_srWT_df= pd.read_csv('/cluster/pixstor/slotkinr-lab/sandaruwan/rubyRF/WT_dcr_red/predRF/dcrWT_SRWT_pr_tetra_set2_df.txt',header=0,sep='\\t')\n",
    "\n",
    "\n",
    "print('input shape: >>>>>>>>>>>>>>>>>>>>>>>>>>>>>>>>>>>>>')\n",
    "np.shape(dcr_srWT_df)\n",
    "\n",
    "\n",
    "\n",
    "shuf_comb_df=dcr_srWT_df.iloc[np.random.permutation(len(dcr_srWT_df))]\n",
    "\n",
    "\n",
    "\n",
    "shuf_comb_df=shuf_comb_df.reset_index(drop=True)\n",
    "\n",
    "shuf_comb_df.info()\n"
   ]
  },
  {
   "cell_type": "code",
   "execution_count": 24,
   "metadata": {},
   "outputs": [],
   "source": [
    "ydt=shuf_comb_df['ptype']\n",
    "\n",
    "xdt=shuf_comb_df.drop(['seq_id','ptype'],axis=1)\n"
   ]
  },
  {
   "cell_type": "code",
   "execution_count": 25,
   "metadata": {},
   "outputs": [
    {
     "name": "stdout",
     "output_type": "stream",
     "text": [
      "prediction >>>>>>>>>>>>>>>>>>>>>>>>>>>>>>>>>>>>>>\n"
     ]
    }
   ],
   "source": [
    "with parallel_backend('threading',n_jobs=64 ):\n",
    "\n",
    "    print('prediction >>>>>>>>>>>>>>>>>>>>>>>>>>>>>>>>>>>>>>')\n",
    "\n",
    "    y_pred = rfc_set1.predict(xdt)"
   ]
  },
  {
   "cell_type": "code",
   "execution_count": 28,
   "metadata": {},
   "outputs": [
    {
     "name": "stdout",
     "output_type": "stream",
     "text": [
      "prediction accuracy score : 0.7532\n",
      "\n",
      "Classification report :\n",
      "               precision    recall  f1-score   support\n",
      "\n",
      "           0       0.84      0.77      0.80   1797447\n",
      "           1       0.63      0.72      0.67    965281\n",
      "\n",
      "    accuracy                           0.75   2762728\n",
      "   macro avg       0.73      0.75      0.74   2762728\n",
      "weighted avg       0.76      0.75      0.76   2762728\n",
      "\n"
     ]
    }
   ],
   "source": [
    "from sklearn.metrics import accuracy_score\n",
    "\n",
    "print('prediction accuracy score : {0:0.4f}'. format(accuracy_score(ydt, y_pred)))\n",
    "\n",
    "\n",
    "\n",
    "print (\"\\nClassification report :\\n\",(classification_report(ydt,y_pred)))\n"
   ]
  },
  {
   "cell_type": "code",
   "execution_count": 29,
   "metadata": {},
   "outputs": [
    {
     "data": {
      "image/png": "[encoded data removed]",
      "text/plain": [
       "<Figure size 640x480 with 2 Axes>"
      ]
     },
     "metadata": {},
     "output_type": "display_data"
    }
   ],
   "source": [
    "# #####################################  CONFUSION MATRIX for pred set   ########################################################################\n",
    "fig1=plt.figure()\n",
    "cm = confusion_matrix(y_true=ydt, y_pred=y_pred)\n",
    "\n",
    "ax = sns.heatmap(cm/np.sum(cm), annot=True,\n",
    "            fmt='.2%', cmap='Blues')\n",
    "\n",
    "ax.set_title(' Test set CM\\n\\n');\n",
    "ax.set_xlabel('Predicted Values')\n",
    "ax.set_ylabel('Actual Values ');\n",
    "\n",
    "## Ticket labels - List must be in alphabetical order\n",
    "ax.xaxis.set_ticklabels(['False','True'])\n",
    "ax.yaxis.set_ticklabels(['False','True'])\n",
    "\n",
    "\n",
    "fig1 = ax.get_figure()\n",
    "fig1.savefig(\"RFC_dcLWT_tetra_set1_pred_set2_v1.pdf\")"
   ]
  },
  {
   "cell_type": "code",
   "execution_count": null,
   "metadata": {},
   "outputs": [],
   "source": []
  }
 ],
 "metadata": {
  "kernelspec": {
   "display_name": "sickt_ml",
   "language": "python",
   "name": "sickt_ml"
  },
  "language_info": {
   "codemirror_mode": {
    "name": "ipython",
    "version": 3
   },
   "file_extension": ".py",
   "mimetype": "text/x-python",
   "name": "python",
   "nbconvert_exporter": "python",
   "pygments_lexer": "ipython3",
   "version": "3.10.14"
  }
 },
 "nbformat": 4,
 "nbformat_minor": 4
}
