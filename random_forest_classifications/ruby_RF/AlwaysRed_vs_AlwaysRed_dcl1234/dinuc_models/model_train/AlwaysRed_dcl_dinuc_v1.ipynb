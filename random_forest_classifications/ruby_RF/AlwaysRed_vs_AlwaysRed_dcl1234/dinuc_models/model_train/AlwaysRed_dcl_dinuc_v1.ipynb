{
 "cells": [
  {
   "cell_type": "code",
   "execution_count": 1,
   "metadata": {},
   "outputs": [],
   "source": [
    "\n",
    "import time\n",
    "import os\n",
    "from itertools import product\n",
    "import pandas as pd\n",
    "import matplotlib.pyplot as plt\n",
    "from numpy import array\n",
    "import numpy as np\n",
    "import seaborn as sns\n",
    "from matplotlib.colors import ListedColormap\n",
    "import pickle\n",
    "\n",
    "\n",
    "from sklearn.model_selection import train_test_split, GridSearchCV\n",
    "from sklearn.preprocessing import StandardScaler\n",
    "from sklearn.model_selection import KFold\n",
    "from sklearn.model_selection import StratifiedKFold\n",
    "from sklearn.model_selection import cross_val_score\n",
    "from sklearn import metrics\n",
    "from sklearn.decomposition import PCA\n",
    "from sklearn.preprocessing import MinMaxScaler\n",
    "\n",
    "\n",
    "from sklearn.ensemble import RandomForestClassifier\n",
    "from sklearn.inspection import permutation_importance\n",
    "from sklearn.utils.class_weight import compute_class_weight\n",
    "\n",
    "#Model Performance Evaluators\n",
    "from sklearn.metrics import classification_report \n",
    "from sklearn.metrics import confusion_matrix \n",
    "from sklearn.metrics import accuracy_score \n",
    "from sklearn.metrics import roc_curve, auc, roc_auc_score, precision_recall_curve, average_precision_score\n",
    "\n",
    "from sklearn.metrics import RocCurveDisplay\n",
    "from sklearn.metrics import log_loss\n",
    "\n",
    "\n",
    "\n",
    "from joblib import parallel_backend\n",
    "from joblib import Parallel, delayed\n",
    "\n",
    "import dask\n",
    "from dask.distributed import Client, progress, LocalCluster, SSHCluster,wait\n",
    "from sklearn.inspection import PartialDependenceDisplay\n",
    "from sklearn.inspection import partial_dependence\n",
    "from PyALE import ale\n",
    "from dask import delayed\n"
   ]
  },
  {
   "cell_type": "code",
   "execution_count": 2,
   "metadata": {},
   "outputs": [],
   "source": [
    "#import data\n",
    "\n",
    "comb_dinuc_df= pd.read_csv('/cluster/pixstor/slotkinr-lab/sandaruwan/rubyRF/WT_dcr_red/trainRF/data_sets/WT_wtdcr_train_set1_di_df.txt',header=0,sep='\\t')\n",
    "\n",
    "\n",
    "np.shape(comb_dinuc_df)\n",
    "\n",
    "#shuffle and reset index\n",
    "shuf_comb_dinuc_df=comb_dinuc_df.iloc[np.random.permutation(len(comb_dinuc_df))]\n",
    "\n",
    "shuf_comb_dinuc_df=shuf_comb_dinuc_df.reset_index(drop=True)\n",
    "\n",
    "\n"
   ]
  },
  {
   "cell_type": "code",
   "execution_count": 3,
   "metadata": {},
   "outputs": [
    {
     "data": {
      "text/html": [
       "<div>\n",
       "<style scoped>\n",
       "    .dataframe tbody tr th:only-of-type {\n",
       "        vertical-align: middle;\n",
       "    }\n",
       "\n",
       "    .dataframe tbody tr th {\n",
       "        vertical-align: top;\n",
       "    }\n",
       "\n",
       "    .dataframe thead th {\n",
       "        text-align: right;\n",
       "    }\n",
       "</style>\n",
       "<table border=\"1\" class=\"dataframe\">\n",
       "  <thead>\n",
       "    <tr style=\"text-align: right;\">\n",
       "      <th></th>\n",
       "      <th>5p</th>\n",
       "      <th>3p</th>\n",
       "      <th>strand</th>\n",
       "      <th>ptype</th>\n",
       "      <th>length</th>\n",
       "      <th>gc_cont</th>\n",
       "      <th>AA</th>\n",
       "      <th>AC</th>\n",
       "      <th>AG</th>\n",
       "      <th>AT</th>\n",
       "      <th>...</th>\n",
       "      <th>CG</th>\n",
       "      <th>CT</th>\n",
       "      <th>GA</th>\n",
       "      <th>GC</th>\n",
       "      <th>GG</th>\n",
       "      <th>GT</th>\n",
       "      <th>TA</th>\n",
       "      <th>TC</th>\n",
       "      <th>TG</th>\n",
       "      <th>TT</th>\n",
       "    </tr>\n",
       "  </thead>\n",
       "  <tbody>\n",
       "    <tr>\n",
       "      <th>0</th>\n",
       "      <td>710</td>\n",
       "      <td>1297</td>\n",
       "      <td>1</td>\n",
       "      <td>0</td>\n",
       "      <td>591</td>\n",
       "      <td>0.576988</td>\n",
       "      <td>29</td>\n",
       "      <td>34</td>\n",
       "      <td>42</td>\n",
       "      <td>24</td>\n",
       "      <td>...</td>\n",
       "      <td>37</td>\n",
       "      <td>43</td>\n",
       "      <td>33</td>\n",
       "      <td>54</td>\n",
       "      <td>26</td>\n",
       "      <td>27</td>\n",
       "      <td>10</td>\n",
       "      <td>49</td>\n",
       "      <td>35</td>\n",
       "      <td>27</td>\n",
       "    </tr>\n",
       "    <tr>\n",
       "      <th>1</th>\n",
       "      <td>4570</td>\n",
       "      <td>4841</td>\n",
       "      <td>1</td>\n",
       "      <td>1</td>\n",
       "      <td>299</td>\n",
       "      <td>0.357860</td>\n",
       "      <td>64</td>\n",
       "      <td>7</td>\n",
       "      <td>14</td>\n",
       "      <td>23</td>\n",
       "      <td>...</td>\n",
       "      <td>10</td>\n",
       "      <td>15</td>\n",
       "      <td>22</td>\n",
       "      <td>12</td>\n",
       "      <td>10</td>\n",
       "      <td>20</td>\n",
       "      <td>14</td>\n",
       "      <td>15</td>\n",
       "      <td>29</td>\n",
       "      <td>25</td>\n",
       "    </tr>\n",
       "    <tr>\n",
       "      <th>2</th>\n",
       "      <td>710</td>\n",
       "      <td>852</td>\n",
       "      <td>1</td>\n",
       "      <td>0</td>\n",
       "      <td>145</td>\n",
       "      <td>0.572414</td>\n",
       "      <td>5</td>\n",
       "      <td>6</td>\n",
       "      <td>9</td>\n",
       "      <td>10</td>\n",
       "      <td>...</td>\n",
       "      <td>9</td>\n",
       "      <td>13</td>\n",
       "      <td>10</td>\n",
       "      <td>13</td>\n",
       "      <td>6</td>\n",
       "      <td>3</td>\n",
       "      <td>2</td>\n",
       "      <td>16</td>\n",
       "      <td>8</td>\n",
       "      <td>6</td>\n",
       "    </tr>\n",
       "    <tr>\n",
       "      <th>3</th>\n",
       "      <td>3880</td>\n",
       "      <td>4021</td>\n",
       "      <td>1</td>\n",
       "      <td>0</td>\n",
       "      <td>142</td>\n",
       "      <td>0.591549</td>\n",
       "      <td>5</td>\n",
       "      <td>9</td>\n",
       "      <td>8</td>\n",
       "      <td>7</td>\n",
       "      <td>...</td>\n",
       "      <td>10</td>\n",
       "      <td>13</td>\n",
       "      <td>7</td>\n",
       "      <td>13</td>\n",
       "      <td>8</td>\n",
       "      <td>4</td>\n",
       "      <td>2</td>\n",
       "      <td>16</td>\n",
       "      <td>6</td>\n",
       "      <td>5</td>\n",
       "    </tr>\n",
       "    <tr>\n",
       "      <th>4</th>\n",
       "      <td>4690</td>\n",
       "      <td>4805</td>\n",
       "      <td>1</td>\n",
       "      <td>0</td>\n",
       "      <td>132</td>\n",
       "      <td>0.265152</td>\n",
       "      <td>31</td>\n",
       "      <td>0</td>\n",
       "      <td>3</td>\n",
       "      <td>11</td>\n",
       "      <td>...</td>\n",
       "      <td>2</td>\n",
       "      <td>5</td>\n",
       "      <td>6</td>\n",
       "      <td>4</td>\n",
       "      <td>4</td>\n",
       "      <td>13</td>\n",
       "      <td>7</td>\n",
       "      <td>4</td>\n",
       "      <td>18</td>\n",
       "      <td>22</td>\n",
       "    </tr>\n",
       "  </tbody>\n",
       "</table>\n",
       "<p>5 rows × 22 columns</p>\n",
       "</div>"
      ],
      "text/plain": [
       "     5p    3p  strand  ptype  length   gc_cont  AA  AC  AG  AT  ...  CG  CT  \\\n",
       "0   710  1297       1      0     591  0.576988  29  34  42  24  ...  37  43   \n",
       "1  4570  4841       1      1     299  0.357860  64   7  14  23  ...  10  15   \n",
       "2   710   852       1      0     145  0.572414   5   6   9  10  ...   9  13   \n",
       "3  3880  4021       1      0     142  0.591549   5   9   8   7  ...  10  13   \n",
       "4  4690  4805       1      0     132  0.265152  31   0   3  11  ...   2   5   \n",
       "\n",
       "   GA  GC  GG  GT  TA  TC  TG  TT  \n",
       "0  33  54  26  27  10  49  35  27  \n",
       "1  22  12  10  20  14  15  29  25  \n",
       "2  10  13   6   3   2  16   8   6  \n",
       "3   7  13   8   4   2  16   6   5  \n",
       "4   6   4   4  13   7   4  18  22  \n",
       "\n",
       "[5 rows x 22 columns]"
      ]
     },
     "execution_count": 3,
     "metadata": {},
     "output_type": "execute_result"
    }
   ],
   "source": [
    "#drop seq_id\n",
    "shuf_comb_dinuc_dfdrp= shuf_comb_dinuc_df.drop(['seq_id'],axis=1)\n",
    "shuf_comb_dinuc_dfdrp.head()"
   ]
  },
  {
   "cell_type": "code",
   "execution_count": 4,
   "metadata": {},
   "outputs": [],
   "source": [
    "ydt=shuf_comb_dinuc_df['ptype']\n",
    "\n",
    "xdt=shuf_comb_dinuc_df.drop(['seq_id','ptype'],axis=1)\n",
    "\n"
   ]
  },
  {
   "cell_type": "code",
   "execution_count": 5,
   "metadata": {},
   "outputs": [],
   "source": [
    "Xdt_sc = StandardScaler().fit_transform(xdt)\n",
    "\n",
    "\n",
    "pcat = PCA(n_components=2)\n",
    "\n",
    "Xdt_PC = pcat.fit_transform(Xdt_sc)\n"
   ]
  },
  {
   "cell_type": "code",
   "execution_count": 6,
   "metadata": {},
   "outputs": [
    {
     "data": {
      "text/html": [
       "<div>\n",
       "<style scoped>\n",
       "    .dataframe tbody tr th:only-of-type {\n",
       "        vertical-align: middle;\n",
       "    }\n",
       "\n",
       "    .dataframe tbody tr th {\n",
       "        vertical-align: top;\n",
       "    }\n",
       "\n",
       "    .dataframe thead th {\n",
       "        text-align: right;\n",
       "    }\n",
       "</style>\n",
       "<table border=\"1\" class=\"dataframe\">\n",
       "  <thead>\n",
       "    <tr style=\"text-align: right;\">\n",
       "      <th></th>\n",
       "      <th>PC1</th>\n",
       "      <th>PC2</th>\n",
       "    </tr>\n",
       "  </thead>\n",
       "  <tbody>\n",
       "    <tr>\n",
       "      <th>0</th>\n",
       "      <td>-1.712054</td>\n",
       "      <td>0.831886</td>\n",
       "    </tr>\n",
       "    <tr>\n",
       "      <th>1</th>\n",
       "      <td>0.612033</td>\n",
       "      <td>-1.522641</td>\n",
       "    </tr>\n",
       "    <tr>\n",
       "      <th>2</th>\n",
       "      <td>-3.051817</td>\n",
       "      <td>1.025508</td>\n",
       "    </tr>\n",
       "    <tr>\n",
       "      <th>3</th>\n",
       "      <td>-1.582736</td>\n",
       "      <td>1.390563</td>\n",
       "    </tr>\n",
       "    <tr>\n",
       "      <th>4</th>\n",
       "      <td>1.414780</td>\n",
       "      <td>1.223982</td>\n",
       "    </tr>\n",
       "  </tbody>\n",
       "</table>\n",
       "</div>"
      ],
      "text/plain": [
       "        PC1       PC2\n",
       "0 -1.712054  0.831886\n",
       "1  0.612033 -1.522641\n",
       "2 -3.051817  1.025508\n",
       "3 -1.582736  1.390563\n",
       "4  1.414780  1.223982"
      ]
     },
     "execution_count": 6,
     "metadata": {},
     "output_type": "execute_result"
    }
   ],
   "source": [
    "pca_df=pd.DataFrame(data=Xdt_PC,columns=['PC1','PC2'])\n",
    "pca_df.head()"
   ]
  },
  {
   "cell_type": "code",
   "execution_count": 7,
   "metadata": {},
   "outputs": [
    {
     "data": {
      "text/html": [
       "<div>\n",
       "<style scoped>\n",
       "    .dataframe tbody tr th:only-of-type {\n",
       "        vertical-align: middle;\n",
       "    }\n",
       "\n",
       "    .dataframe tbody tr th {\n",
       "        vertical-align: top;\n",
       "    }\n",
       "\n",
       "    .dataframe thead th {\n",
       "        text-align: right;\n",
       "    }\n",
       "</style>\n",
       "<table border=\"1\" class=\"dataframe\">\n",
       "  <thead>\n",
       "    <tr style=\"text-align: right;\">\n",
       "      <th></th>\n",
       "      <th>PC1</th>\n",
       "      <th>PC2</th>\n",
       "      <th>ptype</th>\n",
       "    </tr>\n",
       "  </thead>\n",
       "  <tbody>\n",
       "    <tr>\n",
       "      <th>0</th>\n",
       "      <td>-1.712054</td>\n",
       "      <td>0.831886</td>\n",
       "      <td>1</td>\n",
       "    </tr>\n",
       "    <tr>\n",
       "      <th>1</th>\n",
       "      <td>0.612033</td>\n",
       "      <td>-1.522641</td>\n",
       "      <td>1</td>\n",
       "    </tr>\n",
       "    <tr>\n",
       "      <th>2</th>\n",
       "      <td>-3.051817</td>\n",
       "      <td>1.025508</td>\n",
       "      <td>1</td>\n",
       "    </tr>\n",
       "    <tr>\n",
       "      <th>3</th>\n",
       "      <td>-1.582736</td>\n",
       "      <td>1.390563</td>\n",
       "      <td>0</td>\n",
       "    </tr>\n",
       "    <tr>\n",
       "      <th>4</th>\n",
       "      <td>1.414780</td>\n",
       "      <td>1.223982</td>\n",
       "      <td>0</td>\n",
       "    </tr>\n",
       "  </tbody>\n",
       "</table>\n",
       "</div>"
      ],
      "text/plain": [
       "        PC1       PC2  ptype\n",
       "0 -1.712054  0.831886      1\n",
       "1  0.612033 -1.522641      1\n",
       "2 -3.051817  1.025508      1\n",
       "3 -1.582736  1.390563      0\n",
       "4  1.414780  1.223982      0"
      ]
     },
     "execution_count": 7,
     "metadata": {},
     "output_type": "execute_result"
    }
   ],
   "source": [
    "final_pca_df=pd.concat([pca_df,shuf_comb_dinuc_df[['ptype']]],axis=1)\n",
    "final_pca_df.head()"
   ]
  },
  {
   "cell_type": "code",
   "execution_count": 9,
   "metadata": {},
   "outputs": [],
   "source": [
    "# plt.rcParams.update({'font.size': 50})\n",
    "# fig = plt.figure(figsize = (40,40))\n",
    "# ax = fig.add_subplot(1,1,1) \n",
    "# ax.set_xlabel('PC 1')\n",
    "# ax.set_ylabel('PC 2')\n",
    "# ax.set_title('PCA')\n",
    "# legend_labels = ['Red', 'Green']\n",
    "# pts = [0, 1]\n",
    "# colors = ['#D80673', '#06D826']\n",
    "# for ptype, color in zip(pts,colors):\n",
    "#     indicesToKeep = final_pca_df['ptype']==ptype\n",
    "#     ax.scatter(final_pca_df.loc[indicesToKeep, 'PC1']\n",
    "#                , final_pca_df.loc[indicesToKeep, 'PC2']\n",
    "#                , c = color\n",
    "#                , s = 100,alpha=0.4)\n",
    "# ax.legend(pts,labels = legend_labels)\n",
    "# ax.grid()"
   ]
  },
  {
   "cell_type": "code",
   "execution_count": 5,
   "metadata": {},
   "outputs": [
    {
     "data": {
      "text/plain": [
       "((2372436, 21), (593110, 21))"
      ]
     },
     "execution_count": 5,
     "metadata": {},
     "output_type": "execute_result"
    }
   ],
   "source": [
    "######################### split data #####################################\n",
    "\n",
    "#split test train data\n",
    "Xdt_train, Xdt_test, ydt_train, ydt_test = train_test_split(xdt, ydt, test_size=0.2, random_state=256)\n",
    "\n",
    "#only if cross-validation is not used\n",
    "#X_train, X_val, y_train, y_val = train_test_split(X_train, y_train, test_size=0.2, random_state=42)\n",
    "\n",
    "Xdt_train.shape, Xdt_test.shape\n"
   ]
  },
  {
   "cell_type": "code",
   "execution_count": 6,
   "metadata": {},
   "outputs": [
    {
     "name": "stdout",
     "output_type": "stream",
     "text": [
      "training >>>>>>>>>>>>>>>>>>>>>>>>>>>>>>>>>>>>>>\n"
     ]
    }
   ],
   "source": [
    "with parallel_backend('threading',n_jobs=32 ):\n",
    "\n",
    "\n",
    "    \n",
    "    # Calculate class weights\n",
    "    #class_weights = compute_class_weight('balanced', classes=np.unique(ydt_train), y=ydt_train)\n",
    "    #class_weights\n",
    "\n",
    "    rfc_dicomb = RandomForestClassifier(random_state=3500,n_estimators = 250,n_jobs=32)\n",
    "    #class_weight=dict(enumerate(class_weights) ))\n",
    "\n",
    "\n",
    "#parameter tuned model\n",
    "\n",
    "#    rfc_dicomb = RandomForestClassifier(random_state=3500,n_estimators = 400,n_jobs=32,\n",
    "#     class_weight=dict(enumerate(class_weights) ),\n",
    "#     criterion='log_loss',\n",
    "#        max_depth=100,\n",
    "#        min_samples_split=10,\n",
    "#        min_samples_leaf=2,\n",
    "#        max_features='log2',\n",
    "#        bootstrap=True\n",
    "#        )\n",
    "\n",
    "\n",
    "    print('training >>>>>>>>>>>>>>>>>>>>>>>>>>>>>>>>>>>>>>')\n",
    "    #model train\n",
    "    rfc_dicomb.fit(Xdt_train, ydt_train)\n",
    "\n",
    "\n",
    "    # Predict the Test set results\n",
    "\n",
    "    y_pred =  rfc_dicomb.predict(Xdt_test)"
   ]
  },
  {
   "cell_type": "code",
   "execution_count": 7,
   "metadata": {},
   "outputs": [
    {
     "name": "stdout",
     "output_type": "stream",
     "text": [
      "Model test accuracy : 0.8454\n",
      "\n",
      "Classification report :\n",
      "               precision    recall  f1-score   support\n",
      "\n",
      "           0       0.86      0.85      0.85    314135\n",
      "           1       0.83      0.84      0.84    278975\n",
      "\n",
      "    accuracy                           0.85    593110\n",
      "   macro avg       0.84      0.85      0.84    593110\n",
      "weighted avg       0.85      0.85      0.85    593110\n",
      "\n"
     ]
    }
   ],
   "source": [
    "###############################################################################\n",
    "\n",
    "# test accuracy score \n",
    "\n",
    "from sklearn.metrics import accuracy_score\n",
    "\n",
    "print('Model test accuracy : {0:0.4f}'. format(accuracy_score(ydt_test, y_pred)))\n",
    "\n",
    "\n",
    "\n",
    "print (\"\\nClassification report :\\n\",(classification_report(ydt_test,y_pred)))\n",
    "\n"
   ]
  },
  {
   "cell_type": "code",
   "execution_count": 14,
   "metadata": {},
   "outputs": [],
   "source": [
    "mfilename='/shares/kslotkin_share/private/tratnayake/frNAnet/models/rfc_WTvdcr_comb_set1_v1.pkl'\n",
    "\n",
    "pickle.dump( rfc_dicomb,open(mfilename,'wb'))"
   ]
  },
  {
   "cell_type": "code",
   "execution_count": 15,
   "metadata": {},
   "outputs": [
    {
     "data": {
      "image/png": "[encoded data removed]",
      "text/plain": [
       "<Figure size 800x800 with 2 Axes>"
      ]
     },
     "metadata": {},
     "output_type": "display_data"
    }
   ],
   "source": [
    "plt.rcParams.update({'font.size': 10})\n",
    "\n",
    "# #####################################  CONFUSION MATRIX for test set   ########################################################################\n",
    "fig1=plt.figure(figsize = (8,8))\n",
    "cm = confusion_matrix(y_true=ydt_test, y_pred=y_pred)\n",
    "\n",
    "ax = sns.heatmap(cm/np.sum(cm), annot=True,\n",
    "            fmt='.2%', cmap='Blues')\n",
    "\n",
    "ax.set_title(' Test set CM\\n\\n');\n",
    "ax.set_xlabel('Predicted Values')\n",
    "ax.set_ylabel('Actual Values ');\n",
    "\n",
    "## Ticket labels - List must be in alphabetical order\n",
    "ax.xaxis.set_ticklabels(['False','True'])\n",
    "ax.yaxis.set_ticklabels(['False','True'])\n",
    "\n",
    "\n",
    "fig1 = ax.get_figure()\n",
    "#figure.savefig('svm_conf.png', dpi=400)\n",
    "\n",
    "#fig=plot_confusion_matrix(cm=cm, classes=cm_plot_labels, title='Confusion Matrix')\n",
    "#fig1.savefig(\"RFC_URSR_comb_S220316070514_v2.png\")"
   ]
  },
  {
   "cell_type": "code",
   "execution_count": 8,
   "metadata": {},
   "outputs": [],
   "source": [
    "client = Client(processes=False, threads_per_worker=1, n_workers=32, memory_limit='120GB')\n"
   ]
  },
  {
   "cell_type": "code",
   "execution_count": 9,
   "metadata": {},
   "outputs": [
    {
     "name": "stderr",
     "output_type": "stream",
     "text": [
      "/mnt/pixstor/data/tsrbcx/miniconda/envs/sickt_ml/lib/python3.10/site-packages/distributed/client.py:3164: UserWarning: Sending large graph of size 11.68 GiB.\n",
      "This may cause some slowdown.\n",
      "Consider scattering data ahead of time and using futures.\n",
      "  warnings.warn(\n"
     ]
    },
    {
     "name": "stdout",
     "output_type": "stream",
     "text": [
      "execution time 770.9050400257111 s\n"
     ]
    }
   ],
   "source": [
    "start_time=time.time()\n",
    "\n",
    "\n",
    "# Scatter X data to workers\n",
    "Xdt_test_dask = client.scatter(Xdt_test, broadcast=True)\n",
    "# Scatter y data to workers\n",
    "ydt_test_dask = client.scatter(ydt_test, broadcast=True)  \n",
    "\n",
    "\n",
    "@dask.delayed\n",
    "def compute_permutation_importance(model, X, y, n_repeats=10, random_state=42):\n",
    "    \n",
    "    result = permutation_importance(model, X, y, n_repeats=n_repeats, random_state=random_state)\n",
    "    return result\n",
    "\n",
    "# Compute permutation importance with Dask delayed computation\n",
    "perm_importance_delayed = compute_permutation_importance(rfc_dicomb, Xdt_test_dask, ydt_test_dask)\n",
    "\n",
    "# Compute the result\n",
    "perm_importance_t3 = perm_importance_delayed.compute()\n",
    "\n",
    "\n",
    "end_time=time.time()\n",
    "total_time=end_time-start_time\n",
    "print(\"execution time\",total_time,\"s\")\n"
   ]
  },
  {
   "cell_type": "code",
   "execution_count": 10,
   "metadata": {},
   "outputs": [],
   "source": [
    "client.close()"
   ]
  },
  {
   "cell_type": "code",
   "execution_count": null,
   "metadata": {},
   "outputs": [],
   "source": []
  },
  {
   "cell_type": "code",
   "execution_count": 11,
   "metadata": {},
   "outputs": [],
   "source": [
    "sorted_idx = perm_importance_t3.importances_mean.argsort()\n",
    "top_fidx=sorted_idx[-22:]"
   ]
  },
  {
   "cell_type": "code",
   "execution_count": 12,
   "metadata": {},
   "outputs": [
    {
     "data": {
      "image/png": "[encoded data removed]",
      "text/plain": [
       "<Figure size 640x480 with 1 Axes>"
      ]
     },
     "metadata": {},
     "output_type": "display_data"
    }
   ],
   "source": [
    "plt.rcParams.update({'font.size': 10})\n",
    "fig4=plt.figure()\n",
    "plt.barh(Xdt_train.columns[top_fidx], perm_importance_t3.importances_mean[top_fidx])\n",
    "plt.xlabel(\"Feature Permutation Importance\")\n",
    "plt.ylabel('Feature')\n",
    "plt.title('Permutation based Feature Importance')\n",
    "fig4.savefig(\"Permutation_based_FI_dinuc_dcrwt_SRWT_pct.pdf\")\n"
   ]
  },
  {
   "cell_type": "code",
   "execution_count": null,
   "metadata": {},
   "outputs": [],
   "source": []
  }
 ],
 "metadata": {
  "kernelspec": {
   "display_name": "sickt_ml",
   "language": "python",
   "name": "sickt_ml"
  },
  "language_info": {
   "codemirror_mode": {
    "name": "ipython",
    "version": 3
   },
   "file_extension": ".py",
   "mimetype": "text/x-python",
   "name": "python",
   "nbconvert_exporter": "python",
   "pygments_lexer": "ipython3",
   "version": "3.10.14"
  }
 },
 "nbformat": 4,
 "nbformat_minor": 4
}
