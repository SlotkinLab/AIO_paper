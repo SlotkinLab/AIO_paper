{
 "cells": [
  {
   "cell_type": "code",
   "execution_count": 1,
   "metadata": {},
   "outputs": [],
   "source": [
    "from numpy import array\n",
    "import time\n",
    "import os\n",
    "from itertools import product\n",
    "import pandas as pd\n",
    "import matplotlib.pyplot as plt\n",
    "import numpy as np\n",
    "import seaborn as sns\n",
    "from matplotlib.colors import ListedColormap\n",
    "import pickle\n",
    "\n",
    "\n",
    "from sklearn.model_selection import train_test_split, GridSearchCV\n",
    "from sklearn.preprocessing import StandardScaler\n",
    "from sklearn import metrics\n",
    "\n",
    "\n",
    "#Models\n",
    "\n",
    "from sklearn.ensemble import RandomForestClassifier\n",
    "from sklearn.inspection import permutation_importance\n",
    "from sklearn.metrics import classification_report \n",
    "from sklearn.metrics import confusion_matrix \n",
    "from sklearn.metrics import accuracy_score \n",
    "from sklearn.metrics import roc_curve, auc\n",
    "from sklearn.metrics import roc_auc_score\n",
    "from sklearn.metrics import RocCurveDisplay\n",
    "from sklearn.metrics import roc_curve, roc_auc_score, precision_recall_curve, average_precision_score\n",
    "from sklearn.utils.class_weight import compute_class_weight\n",
    "\n",
    "\n",
    "\n",
    "#parallel\n",
    "import joblib\n",
    "from joblib import parallel_backend\n",
    "from joblib import Parallel, delayed\n",
    "import dask\n",
    "from dask.distributed import Client, progress, LocalCluster, SSHCluster,wait\n",
    "from scipy.spatial.distance import squareform\n",
    "from sklearn.inspection import PartialDependenceDisplay\n",
    "from sklearn.inspection import partial_dependence\n",
    "from PyALE import ale\n",
    "from dask import delayed"
   ]
  },
  {
   "cell_type": "code",
   "execution_count": 2,
   "metadata": {},
   "outputs": [],
   "source": [
    "#import data\n",
    "\n",
    "comb_dinuc_df= pd.read_csv('/shares/kslotkin_share/private/tratnayake/frNAnet/R_FG/train/S07161321_dinuc_df.txt',header=0,sep='\\t')\n",
    "\n",
    "\n",
    "np.shape(comb_dinuc_df)\n",
    "\n",
    "\n",
    "shuf_comb_dinuc_df=comb_dinuc_df.iloc[np.random.permutation(len(comb_dinuc_df))]\n",
    "\n",
    "\n",
    "#reset index\n",
    "shuf_comb_dinuc_df=shuf_comb_dinuc_df.reset_index(drop=True)\n",
    "#shuf_comb_dinuc_df\n"
   ]
  },
  {
   "cell_type": "code",
   "execution_count": 3,
   "metadata": {},
   "outputs": [],
   "source": [
    "ydt=shuf_comb_dinuc_df['ptype']\n",
    "#ydt\n",
    "\n",
    "\n",
    "xdt=shuf_comb_dinuc_df.drop(['seq_id','ptype'],axis=1)\n",
    "#xdt"
   ]
  },
  {
   "cell_type": "code",
   "execution_count": 4,
   "metadata": {},
   "outputs": [
    {
     "data": {
      "text/plain": [
       "((636865, 21), (159217, 21))"
      ]
     },
     "execution_count": 4,
     "metadata": {},
     "output_type": "execute_result"
    }
   ],
   "source": [
    "######################### split data #####################################\n",
    "\n",
    "#split test train data\n",
    "Xdt_train, Xdt_test, ydt_train, ydt_test = train_test_split(xdt, ydt, test_size=0.2, random_state=256)\n",
    "\n",
    "#only if cross-validation is not used\n",
    "#X_train, X_val, y_train, y_val = train_test_split(X_train, y_train, test_size=0.2, random_state=42)\n",
    "\n",
    "Xdt_train.shape, Xdt_test.shape\n",
    "######################################################################################\n"
   ]
  },
  {
   "cell_type": "code",
   "execution_count": 5,
   "metadata": {},
   "outputs": [
    {
     "name": "stdout",
     "output_type": "stream",
     "text": [
      "training >>>>>>>>>>>>>>>>>>>>>>>>>>>>>>>>>>>>>>\n"
     ]
    }
   ],
   "source": [
    "with parallel_backend('threading',n_jobs=48 ):\n",
    "\n",
    "\n",
    "    #print('traing>>>>>>>>>>>>>>>>>>>>>>>>>>>>>>>>>>>>>>')\n",
    "    # Calculate class weights\n",
    "    class_weights = compute_class_weight('balanced', classes=np.unique(ydt_train), y=ydt_train)\n",
    "    class_weights\n",
    "\n",
    "    rfc_dicomb = RandomForestClassifier(random_state=515,n_estimators = 200,class_weight=dict(enumerate(class_weights) ),n_jobs=48)\n",
    "\n",
    "\n",
    "    #'n_estimators': 200, 'min_samples_split': 10, 'min_samples_leaf': 2, 'max_features': 'log2', 'max_depth': 100, 'criterion': 'log_loss', 'bootstrap': True\n",
    "\n",
    "#    rfc_dicomb= RandomForestClassifier(\n",
    "#        n_estimators=200,\n",
    "#        criterion='log_loss',\n",
    "#        max_depth=100,\n",
    "#        min_samples_split=10,\n",
    "#        min_samples_leaf=2,\n",
    "#        max_features='log2',\n",
    "#        bootstrap=True,\n",
    "#        n_jobs=16,\n",
    "#        random_state=0,\n",
    "#        class_weight=dict(enumerate(class_weights))\n",
    "#    )\n",
    "\n",
    "\n",
    "    print('training >>>>>>>>>>>>>>>>>>>>>>>>>>>>>>>>>>>>>>')\n",
    "    #model train\n",
    "    rfc_dicomb.fit(Xdt_train, ydt_train)\n",
    "\n",
    "\n",
    "    # Predict the Test set results\n",
    "\n",
    "    y_pred =  rfc_dicomb.predict(Xdt_test)"
   ]
  },
  {
   "cell_type": "code",
   "execution_count": 6,
   "metadata": {},
   "outputs": [
    {
     "name": "stdout",
     "output_type": "stream",
     "text": [
      "Model test accuracy : 0.8914\n",
      "\n",
      "Classification report :\n",
      "               precision    recall  f1-score   support\n",
      "\n",
      "           0       0.90      0.90      0.90     84637\n",
      "           1       0.88      0.88      0.88     74580\n",
      "\n",
      "    accuracy                           0.89    159217\n",
      "   macro avg       0.89      0.89      0.89    159217\n",
      "weighted avg       0.89      0.89      0.89    159217\n",
      "\n"
     ]
    }
   ],
   "source": [
    "print('Model test accuracy : {0:0.4f}'. format(accuracy_score(ydt_test, y_pred)))\n",
    "\n",
    "\n",
    "\n",
    "print (\"\\nClassification report :\\n\",(classification_report(ydt_test,y_pred)))"
   ]
  },
  {
   "cell_type": "code",
   "execution_count": 7,
   "metadata": {},
   "outputs": [],
   "source": [
    "client = Client(processes=False, threads_per_worker=1, n_workers=48, memory_limit='256GB')"
   ]
  },
  {
   "cell_type": "code",
   "execution_count": 9,
   "metadata": {},
   "outputs": [
    {
     "name": "stderr",
     "output_type": "stream",
     "text": [
      "/home/tratnayake/miniconda3/envs/ML_sick_jpy/lib/python3.10/site-packages/distributed/client.py:3157: UserWarning: Sending large graph of size 2.05 GiB.\n",
      "This may cause some slowdown.\n",
      "Consider scattering data ahead of time and using futures.\n",
      "  warnings.warn(\n"
     ]
    },
    {
     "name": "stdout",
     "output_type": "stream",
     "text": [
      "execution time 187.1643648147583 s\n"
     ]
    }
   ],
   "source": [
    "start_time=time.time()\n",
    "\n",
    "\n",
    "# Scatter X data to workers\n",
    "Xdt_test_dask = client.scatter(Xdt_test, broadcast=True)\n",
    "# Scatter y data to workers\n",
    "ydt_test_dask = client.scatter(ydt_test, broadcast=True)  \n",
    "\n",
    "\n",
    "@dask.delayed\n",
    "def compute_permutation_importance(model, X, y, n_repeats=10, random_state=42):\n",
    "    \n",
    "    result = permutation_importance(model, X, y, n_repeats=n_repeats, random_state=random_state)\n",
    "    return result\n",
    "\n",
    "# Compute permutation importance with Dask delayed computation\n",
    "perm_importance_delayed = compute_permutation_importance(rfc_dicomb, Xdt_test_dask, ydt_test_dask)\n",
    "\n",
    "# Compute the result\n",
    "perm_importance_t3 = perm_importance_delayed.compute()\n",
    "\n",
    "\n",
    "end_time=time.time()\n",
    "total_time=end_time-start_time\n",
    "print(\"execution time\",total_time,\"s\")"
   ]
  },
  {
   "cell_type": "code",
   "execution_count": 10,
   "metadata": {},
   "outputs": [],
   "source": [
    "client.close()"
   ]
  },
  {
   "cell_type": "code",
   "execution_count": 11,
   "metadata": {},
   "outputs": [],
   "source": [
    "sorted_idx3 = perm_importance_t3.importances_mean.argsort()\n",
    "top_fidx3=sorted_idx3[-22:]"
   ]
  },
  {
   "cell_type": "code",
   "execution_count": 12,
   "metadata": {},
   "outputs": [
    {
     "data": {
      "image/png": "[encoded data removed]",
      "text/plain": [
       "<Figure size 640x480 with 1 Axes>"
      ]
     },
     "metadata": {},
     "output_type": "display_data"
    }
   ],
   "source": [
    "plt.rcParams.update({'font.size': 10})\n",
    "fig4=plt.figure()\n",
    "plt.barh(Xdt_train.columns[top_fidx3], perm_importance_t3.importances_mean[top_fidx3])\n",
    "plt.xlabel(\"Feature Permutation Importance\")\n",
    "plt.ylabel('Feature')\n",
    "plt.title('Permutation based Feature Importance')\n",
    "fig4.savefig(\"Permutation_based_FI_dinuc_URFFG_v1.pdf\")"
   ]
  },
  {
   "cell_type": "code",
   "execution_count": null,
   "metadata": {},
   "outputs": [],
   "source": []
  }
 ],
 "metadata": {
  "kernelspec": {
   "display_name": "sickt_ml",
   "language": "python",
   "name": "sickt_ml"
  },
  "language_info": {
   "codemirror_mode": {
    "name": "ipython",
    "version": 3
   },
   "file_extension": ".py",
   "mimetype": "text/x-python",
   "name": "python",
   "nbconvert_exporter": "python",
   "pygments_lexer": "ipython3",
   "version": "3.10.14"
  }
 },
 "nbformat": 4,
 "nbformat_minor": 4
}
