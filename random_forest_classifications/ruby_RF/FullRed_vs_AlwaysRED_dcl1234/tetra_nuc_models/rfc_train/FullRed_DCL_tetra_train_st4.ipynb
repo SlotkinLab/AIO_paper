{
 "cells": [
  {
   "cell_type": "code",
   "execution_count": 3,
   "id": "a6fd1de1-3480-468b-b711-5ae39f044fa8",
   "metadata": {},
   "outputs": [],
   "source": [
    "import time\n",
    "import os\n",
    "from itertools import product\n",
    "import pandas as pd\n",
    "import matplotlib.pyplot as plt\n",
    "import numpy as np\n",
    "import seaborn as sns\n",
    "from matplotlib.colors import ListedColormap\n",
    "import pickle\n",
    "from numpy import array\n",
    "####\n",
    "\n",
    "from sklearn.model_selection import train_test_split\n",
    "from sklearn.preprocessing import StandardScaler\n",
    "from sklearn.model_selection import KFold\n",
    "from sklearn.model_selection import StratifiedKFold\n",
    "from sklearn.model_selection import cross_val_score\n",
    "from sklearn import metrics\n",
    "from sklearn.decomposition import PCA\n",
    "from sklearn.preprocessing import MinMaxScaler\n",
    "from sklearn.model_selection import cross_val_predict\n",
    "###\n",
    "from sklearn.utils.class_weight import compute_class_weight\n",
    "\n",
    "\n",
    "#Models\n",
    "\n",
    "from sklearn.ensemble import RandomForestClassifier\n",
    "from sklearn.inspection import permutation_importance\n",
    "\n",
    "\n",
    "#Model Performance Evaluators\n",
    "from sklearn.metrics import classification_report \n",
    "from sklearn.metrics import confusion_matrix \n",
    "from sklearn.metrics import accuracy_score \n",
    "from sklearn.metrics import RocCurveDisplay\n",
    "\n",
    "from sklearn.metrics import roc_curve, auc, roc_auc_score, precision_recall_curve, average_precision_score\n",
    "\n",
    "from sklearn.datasets import make_classification\n",
    "from sklearn.metrics import log_loss\n",
    "from joblib import parallel_backend\n",
    "from joblib import Parallel, delayed\n",
    "\n",
    "\n",
    "\n",
    "import matplotlib.pyplot as plt\n",
    "import numpy as np\n",
    "\n",
    "\n",
    "import dask\n",
    "from dask.distributed import Client, progress, LocalCluster, SSHCluster,wait\n",
    "from sklearn.inspection import PartialDependenceDisplay\n",
    "from sklearn.inspection import partial_dependence\n",
    "from PyALE import ale"
   ]
  },
  {
   "cell_type": "code",
   "execution_count": 2,
   "id": "d934bf78-07d5-47b2-8973-56aab9b14242",
   "metadata": {},
   "outputs": [],
   "source": [
    "#import data\n",
    "\n",
    "comb_t4_df= pd.read_csv('/cluster/pixstor/slotkinr-lab/sandaruwan/rubyRF/FR_DCL/train/data_sets/fr_dcl_tr_t4_set4_df.txt',header=0,sep='\\t')\n",
    "\n",
    "\n",
    "np.shape(comb_t4_df)\n",
    "\n",
    "\n",
    "shuf_comb_t4_df=comb_t4_df.iloc[np.random.permutation(len(comb_t4_df))]\n",
    "\n",
    "\n",
    "#reset index\n",
    "shuf_t4_dinuc_df=shuf_comb_t4_df.reset_index(drop=True)\n",
    "\n",
    "\n"
   ]
  },
  {
   "cell_type": "code",
   "execution_count": 3,
   "id": "cb11474d-e837-4169-be66-ba48ee96fd0f",
   "metadata": {},
   "outputs": [
    {
     "data": {
      "text/html": [
       "<div>\n",
       "<style scoped>\n",
       "    .dataframe tbody tr th:only-of-type {\n",
       "        vertical-align: middle;\n",
       "    }\n",
       "\n",
       "    .dataframe tbody tr th {\n",
       "        vertical-align: top;\n",
       "    }\n",
       "\n",
       "    .dataframe thead th {\n",
       "        text-align: right;\n",
       "    }\n",
       "</style>\n",
       "<table border=\"1\" class=\"dataframe\">\n",
       "  <thead>\n",
       "    <tr style=\"text-align: right;\">\n",
       "      <th></th>\n",
       "      <th>5p</th>\n",
       "      <th>3p</th>\n",
       "      <th>strand</th>\n",
       "      <th>ptype</th>\n",
       "      <th>length</th>\n",
       "      <th>AAAA</th>\n",
       "      <th>AAAC</th>\n",
       "      <th>AAAG</th>\n",
       "      <th>AAAT</th>\n",
       "      <th>AACA</th>\n",
       "      <th>...</th>\n",
       "      <th>TTCG</th>\n",
       "      <th>TTCT</th>\n",
       "      <th>TTGA</th>\n",
       "      <th>TTGC</th>\n",
       "      <th>TTGG</th>\n",
       "      <th>TTGT</th>\n",
       "      <th>TTTA</th>\n",
       "      <th>TTTC</th>\n",
       "      <th>TTTG</th>\n",
       "      <th>TTTT</th>\n",
       "    </tr>\n",
       "  </thead>\n",
       "  <tbody>\n",
       "    <tr>\n",
       "      <th>1922252</th>\n",
       "      <td>716</td>\n",
       "      <td>4841</td>\n",
       "      <td>1</td>\n",
       "      <td>0</td>\n",
       "      <td>4147</td>\n",
       "      <td>23</td>\n",
       "      <td>5</td>\n",
       "      <td>18</td>\n",
       "      <td>8</td>\n",
       "      <td>13</td>\n",
       "      <td>...</td>\n",
       "      <td>17</td>\n",
       "      <td>15</td>\n",
       "      <td>13</td>\n",
       "      <td>8</td>\n",
       "      <td>11</td>\n",
       "      <td>8</td>\n",
       "      <td>4</td>\n",
       "      <td>12</td>\n",
       "      <td>8</td>\n",
       "      <td>8</td>\n",
       "    </tr>\n",
       "    <tr>\n",
       "      <th>2756393</th>\n",
       "      <td>710</td>\n",
       "      <td>4838</td>\n",
       "      <td>1</td>\n",
       "      <td>0</td>\n",
       "      <td>319</td>\n",
       "      <td>18</td>\n",
       "      <td>2</td>\n",
       "      <td>2</td>\n",
       "      <td>4</td>\n",
       "      <td>2</td>\n",
       "      <td>...</td>\n",
       "      <td>0</td>\n",
       "      <td>4</td>\n",
       "      <td>0</td>\n",
       "      <td>0</td>\n",
       "      <td>2</td>\n",
       "      <td>5</td>\n",
       "      <td>0</td>\n",
       "      <td>3</td>\n",
       "      <td>3</td>\n",
       "      <td>6</td>\n",
       "    </tr>\n",
       "    <tr>\n",
       "      <th>608514</th>\n",
       "      <td>4629</td>\n",
       "      <td>4864</td>\n",
       "      <td>1</td>\n",
       "      <td>1</td>\n",
       "      <td>253</td>\n",
       "      <td>9</td>\n",
       "      <td>1</td>\n",
       "      <td>2</td>\n",
       "      <td>5</td>\n",
       "      <td>2</td>\n",
       "      <td>...</td>\n",
       "      <td>0</td>\n",
       "      <td>3</td>\n",
       "      <td>1</td>\n",
       "      <td>0</td>\n",
       "      <td>3</td>\n",
       "      <td>7</td>\n",
       "      <td>0</td>\n",
       "      <td>3</td>\n",
       "      <td>4</td>\n",
       "      <td>8</td>\n",
       "    </tr>\n",
       "    <tr>\n",
       "      <th>2493605</th>\n",
       "      <td>4643</td>\n",
       "      <td>4841</td>\n",
       "      <td>1</td>\n",
       "      <td>0</td>\n",
       "      <td>226</td>\n",
       "      <td>28</td>\n",
       "      <td>2</td>\n",
       "      <td>1</td>\n",
       "      <td>4</td>\n",
       "      <td>2</td>\n",
       "      <td>...</td>\n",
       "      <td>0</td>\n",
       "      <td>3</td>\n",
       "      <td>1</td>\n",
       "      <td>0</td>\n",
       "      <td>2</td>\n",
       "      <td>5</td>\n",
       "      <td>0</td>\n",
       "      <td>3</td>\n",
       "      <td>3</td>\n",
       "      <td>6</td>\n",
       "    </tr>\n",
       "    <tr>\n",
       "      <th>1319886</th>\n",
       "      <td>3897</td>\n",
       "      <td>4842</td>\n",
       "      <td>1</td>\n",
       "      <td>1</td>\n",
       "      <td>955</td>\n",
       "      <td>15</td>\n",
       "      <td>3</td>\n",
       "      <td>6</td>\n",
       "      <td>7</td>\n",
       "      <td>6</td>\n",
       "      <td>...</td>\n",
       "      <td>5</td>\n",
       "      <td>4</td>\n",
       "      <td>8</td>\n",
       "      <td>1</td>\n",
       "      <td>4</td>\n",
       "      <td>4</td>\n",
       "      <td>0</td>\n",
       "      <td>6</td>\n",
       "      <td>4</td>\n",
       "      <td>8</td>\n",
       "    </tr>\n",
       "  </tbody>\n",
       "</table>\n",
       "<p>5 rows × 261 columns</p>\n",
       "</div>"
      ],
      "text/plain": [
       "           5p    3p  strand  ptype  length  AAAA  AAAC  AAAG  AAAT  AACA  ...  \\\n",
       "1922252   716  4841       1      0    4147    23     5    18     8    13  ...   \n",
       "2756393   710  4838       1      0     319    18     2     2     4     2  ...   \n",
       "608514   4629  4864       1      1     253     9     1     2     5     2  ...   \n",
       "2493605  4643  4841       1      0     226    28     2     1     4     2  ...   \n",
       "1319886  3897  4842       1      1     955    15     3     6     7     6  ...   \n",
       "\n",
       "         TTCG  TTCT  TTGA  TTGC  TTGG  TTGT  TTTA  TTTC  TTTG  TTTT  \n",
       "1922252    17    15    13     8    11     8     4    12     8     8  \n",
       "2756393     0     4     0     0     2     5     0     3     3     6  \n",
       "608514      0     3     1     0     3     7     0     3     4     8  \n",
       "2493605     0     3     1     0     2     5     0     3     3     6  \n",
       "1319886     5     4     8     1     4     4     0     6     4     8  \n",
       "\n",
       "[5 rows x 261 columns]"
      ]
     },
     "execution_count": 3,
     "metadata": {},
     "output_type": "execute_result"
    }
   ],
   "source": [
    "#drop seq_id\n",
    "shuf_comb_t4_dfdrp= shuf_comb_t4_df.drop(['seq_id'],axis=1)\n",
    "#shuf_comb_t4_dfdrp=shuf_comb_t4_dfdrp.reset_index(drop=True)\n",
    "shuf_comb_t4_dfdrp.head()"
   ]
  },
  {
   "cell_type": "code",
   "execution_count": 4,
   "id": "29e3de8e-8a98-48de-963d-600688bc2e8e",
   "metadata": {},
   "outputs": [],
   "source": [
    "ydt=shuf_comb_t4_df['ptype']\n",
    "#ydt\n",
    "\n",
    "\n",
    "xdt=shuf_comb_t4_df.drop(['seq_id','ptype'],axis=1)\n",
    "#xdt"
   ]
  },
  {
   "cell_type": "code",
   "execution_count": 5,
   "id": "dbd01d99-5dec-4fa6-a161-27cafe6bd143",
   "metadata": {},
   "outputs": [
    {
     "data": {
      "text/plain": [
       "((2642489, 260), (660623, 260))"
      ]
     },
     "execution_count": 5,
     "metadata": {},
     "output_type": "execute_result"
    }
   ],
   "source": [
    "######################### split data #####################################\n",
    "\n",
    "#split test train data\n",
    "Xdt_train, Xdt_test, ydt_train, ydt_test = train_test_split(xdt, ydt, test_size=0.2, random_state=256)\n",
    "\n",
    "#only if cross-validation is not used\n",
    "#X_train, X_val, y_train, y_val = train_test_split(X_train, y_train, test_size=0.2, random_state=42)\n",
    "\n",
    "Xdt_train.shape, Xdt_test.shape"
   ]
  },
  {
   "cell_type": "code",
   "execution_count": 6,
   "id": "bf3df07e-7133-49f7-88e5-8a47fc4abf0a",
   "metadata": {},
   "outputs": [
    {
     "name": "stdout",
     "output_type": "stream",
     "text": [
      "training >>>>>>>>>>>>>>>>>>>>>>>>>>>>>>>>>>>>>>\n"
     ]
    }
   ],
   "source": [
    "with parallel_backend('threading',n_jobs=64 ):\n",
    "\n",
    "\n",
    "    rfc_tetra = RandomForestClassifier(random_state=3500,n_estimators = 250,n_jobs=64)\n",
    "\n",
    "\n",
    "    print('training >>>>>>>>>>>>>>>>>>>>>>>>>>>>>>>>>>>>>>')\n",
    "    #model train\n",
    "    rfc_tetra.fit(Xdt_train, ydt_train)\n",
    "\n",
    "\n",
    "    # Predict the Test set results\n",
    "\n",
    "    y_pred =  rfc_tetra.predict(Xdt_test)\n"
   ]
  },
  {
   "cell_type": "code",
   "execution_count": 7,
   "id": "4e50148e-9cba-4b13-a6b0-4bb5f6baaf80",
   "metadata": {},
   "outputs": [
    {
     "name": "stdout",
     "output_type": "stream",
     "text": [
      "Model test accuracy : 0.8349\n",
      "\n",
      "Classification report :\n",
      "               precision    recall  f1-score   support\n",
      "\n",
      "           0       0.86      0.79      0.82    314600\n",
      "           1       0.82      0.88      0.85    346023\n",
      "\n",
      "    accuracy                           0.83    660623\n",
      "   macro avg       0.84      0.83      0.83    660623\n",
      "weighted avg       0.84      0.83      0.83    660623\n",
      "\n"
     ]
    }
   ],
   "source": [
    "# test accuracy score \n",
    "\n",
    "from sklearn.metrics import accuracy_score\n",
    "\n",
    "print('Model test accuracy : {0:0.4f}'. format(accuracy_score(ydt_test, y_pred)))\n",
    "\n",
    "\n",
    "\n",
    "print (\"\\nClassification report :\\n\",(classification_report(ydt_test,y_pred)))\n"
   ]
  },
  {
   "cell_type": "code",
   "execution_count": 10,
   "id": "28c16630-9ff0-4e90-924a-ced7b7a3f85a",
   "metadata": {},
   "outputs": [],
   "source": [
    "mfilename='/cluster/pixstor/slotkinr-lab/sandaruwan/rubyRF/FR_DCL/FR_DCL_models/rfc_FR_dcl_comb_tr4_tetra_v1.pkl'\n",
    "\n",
    "pickle.dump( rfc_tetra,open(mfilename,'wb'))"
   ]
  },
  {
   "cell_type": "code",
   "execution_count": 11,
   "id": "bec6ef91-04e4-40ba-b250-35d0b119505e",
   "metadata": {},
   "outputs": [
    {
     "data": {
      "image/png": "[encoded data removed]",
      "text/plain": [
       "<Figure size 640x480 with 2 Axes>"
      ]
     },
     "metadata": {},
     "output_type": "display_data"
    }
   ],
   "source": [
    "plt.rcParams.update({'font.size': 10})\n",
    "fig1=plt.figure()\n",
    "cm = confusion_matrix(y_true=ydt_test, y_pred=y_pred)\n",
    "\n",
    "ax = sns.heatmap(cm/np.sum(cm), annot=True,\n",
    "            fmt='.2%', cmap='Blues')\n",
    "\n",
    "ax.set_title(' Test set CM\\n\\n');\n",
    "ax.set_xlabel('Predicted Values')\n",
    "ax.set_ylabel('Actual Values ');\n",
    "\n",
    "## Ticket labels - List must be in alphabetical order\n",
    "ax.xaxis.set_ticklabels(['False','True'])\n",
    "ax.yaxis.set_ticklabels(['False','True'])\n",
    "\n",
    "\n",
    "fig1 = ax.get_figure()\n",
    "fig1.savefig('RF_frdcl_tr4_tetra.pdf', dpi=400)"
   ]
  },
  {
   "cell_type": "code",
   "execution_count": null,
   "id": "62ad8a7e-eb26-4473-a8be-27973a1fa2c4",
   "metadata": {},
   "outputs": [],
   "source": [
    "client = Client(processes=False, threads_per_worker=1, n_workers=64, memory_limit='256GB')"
   ]
  },
  {
   "cell_type": "code",
   "execution_count": 13,
   "id": "ea128d26-d46f-4a2f-b31d-1244ee7a4ce5",
   "metadata": {},
   "outputs": [
    {
     "name": "stderr",
     "output_type": "stream",
     "text": [
      "/mnt/pixstor/data/tsrbcx/miniconda/envs/sickt_ml/lib/python3.10/site-packages/distributed/client.py:3164: UserWarning: Sending large graph of size 15.54 GiB.\n",
      "This may cause some slowdown.\n",
      "Consider scattering data ahead of time and using futures.\n",
      "  warnings.warn(\n"
     ]
    },
    {
     "name": "stdout",
     "output_type": "stream",
     "text": [
      "execution time 18798.8190677166 s\n"
     ]
    }
   ],
   "source": [
    "start_time=time.time()\n",
    "\n",
    "\n",
    "# Scatter X data to workers\n",
    "Xdt_test_dask = client.scatter(Xdt_test, broadcast=True)\n",
    "# Scatter y data to workers\n",
    "ydt_test_dask = client.scatter(ydt_test, broadcast=True)  \n",
    "\n",
    "\n",
    "@dask.delayed\n",
    "def compute_permutation_importance(model, X, y, n_repeats=10, random_state=42):\n",
    "    \n",
    "    result = permutation_importance(model, X, y, n_repeats=n_repeats, random_state=random_state)\n",
    "    return result\n",
    "\n",
    "# Compute permutation importance with Dask delayed computation\n",
    "perm_importance_delayed = compute_permutation_importance(rfc_tetra, Xdt_test_dask, ydt_test_dask)\n",
    "\n",
    "# Compute the result\n",
    "perm_importance_t3 = perm_importance_delayed.compute()\n",
    "\n",
    "\n",
    "end_time=time.time()\n",
    "total_time=end_time-start_time\n",
    "print(\"execution time\",total_time,\"s\")"
   ]
  },
  {
   "cell_type": "code",
   "execution_count": null,
   "id": "2b24bd89-8a9c-4815-bd94-a0881757ee30",
   "metadata": {},
   "outputs": [],
   "source": [
    "client.close()"
   ]
  },
  {
   "cell_type": "code",
   "execution_count": 15,
   "id": "b0e1fec8-b423-434e-b39b-b323895f58b3",
   "metadata": {},
   "outputs": [],
   "source": [
    "sorted_idx = perm_importance_t3.importances_mean.argsort()\n",
    "top_fidx=sorted_idx[-22:]"
   ]
  },
  {
   "cell_type": "code",
   "execution_count": 16,
   "id": "0f7fe125-965e-4600-93ad-811c151d90bb",
   "metadata": {},
   "outputs": [
    {
     "data": {
      "image/png": "[encoded data removed]",
      "text/plain": [
       "<Figure size 640x480 with 1 Axes>"
      ]
     },
     "metadata": {},
     "output_type": "display_data"
    }
   ],
   "source": [
    "plt.rcParams.update({'font.size': 10})\n",
    "fig4=plt.figure()\n",
    "plt.barh(Xdt_train.columns[top_fidx], perm_importance_t3.importances_mean[top_fidx])\n",
    "plt.xlabel(\"Feature Permutation Importance\")\n",
    "plt.ylabel('Feature')\n",
    "plt.title('Permutation based Feature Importance')\n",
    "fig4.savefig(\"Permutation_based_FI_t4_frdcl_tr4.pdf\")"
   ]
  },
  {
   "cell_type": "code",
   "execution_count": 8,
   "id": "3dd7c114-c795-4be0-89b7-7230665f3621",
   "metadata": {},
   "outputs": [],
   "source": [
    "t4_fe=['5p','3p','CCCT','length','AAAA']"
   ]
  },
  {
   "cell_type": "code",
   "execution_count": 9,
   "id": "785101b1-f148-44c3-9465-b2dea17a1392",
   "metadata": {},
   "outputs": [
    {
     "data": {
      "image/png": "[encoded data removed]",
      "text/plain": [
       "<Figure size 1200x600 with 6 Axes>"
      ]
     },
     "metadata": {},
     "output_type": "display_data"
    }
   ],
   "source": [
    "fig2, ax = plt.subplots(figsize=(12, 6))\n",
    "\n",
    "tree_disp = PartialDependenceDisplay.from_estimator(rfc_tetra,X=Xdt_test,features=t4_fe, ax=ax,n_jobs=64)\n"
   ]
  },
  {
   "cell_type": "code",
   "execution_count": 10,
   "id": "4c698d09-0844-48d1-98d6-99f23fa8b0f4",
   "metadata": {},
   "outputs": [],
   "source": [
    "fig2.savefig('frdcl_tr4_t4_pdp.pdf',dpi=300)"
   ]
  },
  {
   "cell_type": "code",
   "execution_count": 16,
   "id": "9eab60b3-14ad-4525-a19a-f1933ac0cd31",
   "metadata": {},
   "outputs": [
    {
     "name": "stdout",
     "output_type": "stream",
     "text": [
      "5p\n",
      "3p\n",
      "CCCT\n",
      "length\n",
      "Index 3 is out of bounds for lines_\n",
      "AAAA\n",
      "Index 4 is out of bounds for lines_\n"
     ]
    }
   ],
   "source": [
    "pdp_results = {}\n",
    "\n",
    "for i, feature in enumerate(t4_fe):\n",
    "    print(feature)\n",
    "    # Ensure the index is within bounds of lines_\n",
    "    if i < tree_disp.lines_.shape[1]:\n",
    "        # Extract the line object for the feature\n",
    "        line = tree_disp.lines_[0, i]  # Extract line for the i-th feature in the first (and only) row\n",
    "        \n",
    "        # Get the X-axis (feature values) and Y-axis (PDP values) data from the line object\n",
    "        feature_values = line.get_xdata()\n",
    "        pdp_values = line.get_ydata()\n",
    "        \n",
    "        # Store the results in the dictionary\n",
    "        pdp_results[feature] = pd.DataFrame({\n",
    "            'Feature Value': feature_values,\n",
    "            'Partial Dependence': pdp_values\n",
    "        })\n",
    "    else:\n",
    "        print(f\"Index {i} is out of bounds for lines_\")"
   ]
  },
  {
   "cell_type": "code",
   "execution_count": 15,
   "id": "be37ae24-72f7-4794-a09d-6bc87eb4e237",
   "metadata": {},
   "outputs": [
    {
     "name": "stdout",
     "output_type": "stream",
     "text": [
      "Top 5 Partial Dependence Values for Feature: 5p\n",
      "    Feature Value  Partial Dependence\n",
      "95    4549.343434            0.549326\n",
      "96    4589.757576            0.545606\n",
      "97    4630.171717            0.544835\n",
      "98    4670.585859            0.542460\n",
      "94    4508.929293            0.542033\n",
      "\n",
      "Top 5 Partial Dependence Values for Feature: 3p\n",
      "   Feature Value  Partial Dependence\n",
      "3     146.666667            0.539163\n",
      "4     156.222222            0.538732\n",
      "2     137.111111            0.538653\n",
      "5     165.777778            0.538462\n",
      "0     118.000000            0.538440\n",
      "\n"
     ]
    }
   ],
   "source": [
    "top_pdp_results = {}\n",
    "\n",
    "\n",
    "for feature, df in pdp_results.items():\n",
    "    # Sort by partial dependence values and select the top 5\n",
    "    top_5_pdp = df.nlargest(5, 'Partial Dependence')\n",
    "    \n",
    "    # Store the top 5 DataFrame in the dictionary\n",
    "    top_pdp_results[feature] = top_5_pdp\n",
    "\n",
    "\n",
    "for feature, top_pdp in top_pdp_results.items():\n",
    "    print(f\"Top 5 Partial Dependence Values for Feature: {feature}\")\n",
    "    print(top_pdp)\n",
    "    print()"
   ]
  },
  {
   "cell_type": "code",
   "execution_count": null,
   "id": "f8474db1-744f-4c4e-978b-fba4b3f31f0d",
   "metadata": {},
   "outputs": [],
   "source": [
    "output_directory = \"/cluster/pixstor/slotkinr-lab/sandaruwan/rubyRF/FR_DCL/train/tr_set4_tetra/\"\n",
    "\n",
    "#if needed creat \n",
    "#os.makedirs(output_directory, exist_ok=True)\n",
    "\n",
    "\n",
    "for feature, top_pdp in top_pdp_results.items():\n",
    "    # Create a filename using the feature name\n",
    "    filename = f\"{feature}_top_5_pdp.csv\"\n",
    "    \n",
    "    # Create the full path for the CSV file\n",
    "    file_path = os.path.join(output_directory, filename)\n",
    "    \n",
    "    # Save the DataFrame to a CSV file\n",
    "    top_pdp.to_csv(file_path, index=False)\n",
    "\n",
    "    print(f\"Saved Top 5 Partial Dependence Values for Feature: {feature} to {file_path}\")"
   ]
  },
  {
   "cell_type": "code",
   "execution_count": null,
   "id": "862c57c7-9b73-4a3f-a567-b29e3126867b",
   "metadata": {},
   "outputs": [],
   "source": []
  }
 ],
 "metadata": {
  "kernelspec": {
   "display_name": "sickt_ml",
   "language": "python",
   "name": "sickt_ml"
  },
  "language_info": {
   "codemirror_mode": {
    "name": "ipython",
    "version": 3
   },
   "file_extension": ".py",
   "mimetype": "text/x-python",
   "name": "python",
   "nbconvert_exporter": "python",
   "pygments_lexer": "ipython3",
   "version": "3.10.14"
  }
 },
 "nbformat": 4,
 "nbformat_minor": 5
}
