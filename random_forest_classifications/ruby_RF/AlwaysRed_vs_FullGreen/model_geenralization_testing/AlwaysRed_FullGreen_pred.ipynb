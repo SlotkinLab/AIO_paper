{
 "cells": [
  {
   "cell_type": "code",
   "execution_count": 1,
   "id": "0b6d2596-d73b-4aaa-afa9-aaf6e5886566",
   "metadata": {},
   "outputs": [],
   "source": [
    "import time\n",
    "import os\n",
    "from itertools import product\n",
    "import pandas as pd\n",
    "import matplotlib.pyplot as plt\n",
    "import numpy as np\n",
    "import seaborn as sns\n",
    "from matplotlib.colors import ListedColormap\n",
    "import pickle\n",
    "from numpy import array\n",
    "\n",
    "\n",
    "from sklearn.model_selection import train_test_split\n",
    "from sklearn.preprocessing import StandardScaler\n",
    "from sklearn import metrics\n",
    "from sklearn.decomposition import PCA\n",
    "from sklearn.preprocessing import MinMaxScaler\n",
    "from sklearn.model_selection import cross_val_predict\n",
    "from sklearn.utils.class_weight import compute_class_weight\n",
    "\n",
    "\n",
    "from sklearn.ensemble import RandomForestClassifier\n",
    "from sklearn.inspection import permutation_importance\n",
    "\n",
    "\n",
    "#Model Performance Evaluators\n",
    "from sklearn.metrics import classification_report \n",
    "from sklearn.metrics import confusion_matrix \n",
    "from sklearn.metrics import accuracy_score \n",
    "from sklearn.metrics import RocCurveDisplay\n",
    "from sklearn.metrics import roc_curve, auc, roc_auc_score, precision_recall_curve, average_precision_score\n",
    "\n",
    "from sklearn.datasets import make_classification\n",
    "from sklearn.metrics import log_loss\n",
    "from joblib import parallel_backend\n",
    "from joblib import Parallel, delayed\n",
    "\n",
    "\n",
    "\n",
    "import matplotlib.pyplot as plt\n",
    "import numpy as np\n",
    "\n",
    "\n",
    "import dask\n",
    "from dask.distributed import Client, progress, LocalCluster, SSHCluster,wait\n",
    "from sklearn.inspection import PartialDependenceDisplay\n",
    "from sklearn.inspection import partial_dependence\n",
    "from PyALE import ale"
   ]
  },
  {
   "cell_type": "code",
   "execution_count": 6,
   "id": "ecd97898-48f1-45c3-a55a-0d1b2ea61257",
   "metadata": {},
   "outputs": [
    {
     "name": "stdout",
     "output_type": "stream",
     "text": [
      "loading model >>>>>>>>>>>>>>>>>>>>>>>>>>>>>>>>>>>>>\n"
     ]
    }
   ],
   "source": [
    "print('loading model >>>>>>>>>>>>>>>>>>>>>>>>>>>>>>>>>>>>>')\n",
    "\n",
    "\n",
    "mfilename='/cluster/pixstor/slotkinr-lab/sandaruwan/rubyRF/RED_FG/RED_FG_models/rfc_RED_FG_comb_tr4_v1.pkl'\n",
    "# load the model from disk\n",
    "rfc_v1 = pickle.load(open(mfilename, 'rb'))"
   ]
  },
  {
   "cell_type": "code",
   "execution_count": 7,
   "id": "aa2503e2-9d59-4e07-9437-b377e78275ed",
   "metadata": {},
   "outputs": [
    {
     "name": "stdout",
     "output_type": "stream",
     "text": [
      "loading data >>>>>>>>>>>>>>>>>>>>>>>>>>>>>>>>>>>>>\n",
      "input shape: >>>>>>>>>>>>>>>>>>>>>>>>>>>>>>>>>>>>>\n",
      "<class 'pandas.core.frame.DataFrame'>\n",
      "RangeIndex: 711578 entries, 0 to 711577\n",
      "Data columns (total 25 columns):\n",
      " #   Column   Non-Null Count   Dtype  \n",
      "---  ------   --------------   -----  \n",
      " 0   seq_id   711578 non-null  object \n",
      " 1   5p       711578 non-null  int64  \n",
      " 2   3p       711578 non-null  int64  \n",
      " 3   strand   711578 non-null  int64  \n",
      " 4   nblc     711578 non-null  int64  \n",
      " 5   pct      711578 non-null  float64\n",
      " 6   ptype    711578 non-null  int64  \n",
      " 7   length   711578 non-null  int64  \n",
      " 8   gc_cont  711578 non-null  float64\n",
      " 9   AA       711578 non-null  int64  \n",
      " 10  AC       711578 non-null  int64  \n",
      " 11  AG       711578 non-null  int64  \n",
      " 12  AT       711578 non-null  int64  \n",
      " 13  CA       711578 non-null  int64  \n",
      " 14  CC       711578 non-null  int64  \n",
      " 15  CG       711578 non-null  int64  \n",
      " 16  CT       711578 non-null  int64  \n",
      " 17  GA       711578 non-null  int64  \n",
      " 18  GC       711578 non-null  int64  \n",
      " 19  GG       711578 non-null  int64  \n",
      " 20  GT       711578 non-null  int64  \n",
      " 21  TA       711578 non-null  int64  \n",
      " 22  TC       711578 non-null  int64  \n",
      " 23  TG       711578 non-null  int64  \n",
      " 24  TT       711578 non-null  int64  \n",
      "dtypes: float64(2), int64(22), object(1)\n",
      "memory usage: 135.7+ MB\n"
     ]
    }
   ],
   "source": [
    "print('loading data >>>>>>>>>>>>>>>>>>>>>>>>>>>>>>>>>>>>>')\n",
    "\n",
    "comb_df= pd.read_csv('/cluster/pixstor/slotkinr-lab/sandaruwan/frNAnet/prediction/comb_data/S030813_dinuc_pct_df.txt',header=0,sep='\\t')\n",
    "\n",
    "\n",
    "print('input shape: >>>>>>>>>>>>>>>>>>>>>>>>>>>>>>>>>>>>>')\n",
    "np.shape(comb_df)\n",
    "\n",
    "\n",
    "shuf_comb_df=comb_df.iloc[np.random.permutation(len(comb_df))]\n",
    "\n",
    "\n",
    "\n",
    "shuf_comb_df=shuf_comb_df.reset_index(drop=True)\n",
    "\n",
    "shuf_comb_df.info()"
   ]
  },
  {
   "cell_type": "code",
   "execution_count": 8,
   "id": "3fba647c-4fb0-4ab3-b31b-ac1d7c7f7805",
   "metadata": {},
   "outputs": [],
   "source": [
    "ydt=shuf_comb_df['ptype']\n",
    "xdt=shuf_comb_df.drop(['seq_id','ptype'],axis=1)\n"
   ]
  },
  {
   "cell_type": "code",
   "execution_count": 9,
   "id": "2b363123-630d-4d2a-9f58-07b886e018c2",
   "metadata": {},
   "outputs": [
    {
     "name": "stdout",
     "output_type": "stream",
     "text": [
      "prediction >>>>>>>>>>>>>>>>>>>>>>>>>>>>>>>>>>>>>>\n"
     ]
    }
   ],
   "source": [
    "with parallel_backend('threading',n_jobs=64 ):\n",
    "\n",
    "    print('prediction >>>>>>>>>>>>>>>>>>>>>>>>>>>>>>>>>>>>>>')\n",
    "    \n",
    "    y_pred = rfc_v1.predict(xdt)\n",
    "\n",
    "\n"
   ]
  },
  {
   "cell_type": "code",
   "execution_count": 10,
   "id": "a1ebfa4c-284c-4eb8-b3c3-21568419e370",
   "metadata": {},
   "outputs": [
    {
     "name": "stdout",
     "output_type": "stream",
     "text": [
      "prediction accuracy score : 0.8194\n",
      "\n",
      "Classification report :\n",
      "               precision    recall  f1-score   support\n",
      "\n",
      "           0       0.85      0.89      0.87    493694\n",
      "           1       0.73      0.65      0.69    217884\n",
      "\n",
      "    accuracy                           0.82    711578\n",
      "   macro avg       0.79      0.77      0.78    711578\n",
      "weighted avg       0.82      0.82      0.82    711578\n",
      "\n"
     ]
    }
   ],
   "source": [
    "# test accuracy score \n",
    "\n",
    "from sklearn.metrics import accuracy_score\n",
    "\n",
    "print('prediction accuracy score : {0:0.4f}'. format(accuracy_score(ydt, y_pred)))\n",
    "\n",
    "\n",
    "\n",
    "print (\"\\nClassification report :\\n\",(classification_report(ydt,y_pred)))\n",
    "\n"
   ]
  },
  {
   "cell_type": "code",
   "execution_count": 11,
   "id": "917eb2a4-1301-40d9-be97-5fc1473f2775",
   "metadata": {},
   "outputs": [
    {
     "data": {
      "image/png": "[encoded data removed]",
      "text/plain": [
       "<Figure size 640x480 with 2 Axes>"
      ]
     },
     "metadata": {},
     "output_type": "display_data"
    }
   ],
   "source": [
    "# #####################################  CONFUSION MATRIX for test set   ########################################################################\n",
    "fig1=plt.figure()\n",
    "cm = confusion_matrix(y_true=ydt, y_pred=y_pred)\n",
    "\n",
    "ax = sns.heatmap(cm/np.sum(cm), annot=True,\n",
    "            fmt='.2%', cmap='Blues')\n",
    "\n",
    "ax.set_title(' Test set CM\\n\\n');\n",
    "ax.set_xlabel('Predicted Values')\n",
    "ax.set_ylabel('Actual Values ');\n",
    "\n",
    "## Ticket labels - List must be in alphabetical order\n",
    "ax.xaxis.set_ticklabels(['False','True'])\n",
    "ax.yaxis.set_ticklabels(['False','True'])\n",
    "\n",
    "\n",
    "fig1 = ax.get_figure()\n",
    "\n",
    "fig1.savefig(\"RFC_ARFG_S030813_pred.pdf\")"
   ]
  },
  {
   "cell_type": "code",
   "execution_count": null,
   "id": "4ef68f2c-3d3b-499a-8f23-f6d577c7b1b0",
   "metadata": {},
   "outputs": [],
   "source": []
  }
 ],
 "metadata": {
  "kernelspec": {
   "display_name": "sickt_ml",
   "language": "python",
   "name": "sickt_ml"
  },
  "language_info": {
   "codemirror_mode": {
    "name": "ipython",
    "version": 3
   },
   "file_extension": ".py",
   "mimetype": "text/x-python",
   "name": "python",
   "nbconvert_exporter": "python",
   "pygments_lexer": "ipython3",
   "version": "3.10.14"
  }
 },
 "nbformat": 4,
 "nbformat_minor": 5
}
