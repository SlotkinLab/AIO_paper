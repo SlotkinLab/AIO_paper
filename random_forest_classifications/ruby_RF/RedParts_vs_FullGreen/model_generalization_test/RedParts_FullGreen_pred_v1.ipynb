{
 "cells": [
  {
   "cell_type": "code",
   "execution_count": 2,
   "metadata": {},
   "outputs": [],
   "source": [
    "from numpy import array\n",
    "import time\n",
    "import os\n",
    "from itertools import product\n",
    "import pandas as pd\n",
    "import matplotlib.pyplot as plt\n",
    "import numpy as np\n",
    "import seaborn as sns\n",
    "from matplotlib.colors import ListedColormap\n",
    "import pickle\n",
    "\n",
    "from sklearn.model_selection import train_test_split, GridSearchCV\n",
    "from sklearn.preprocessing import StandardScaler\n",
    "from sklearn.model_selection import cross_val_score\n",
    "from sklearn import metrics\n",
    "\n",
    "\n",
    "from sklearn.ensemble import RandomForestClassifier\n",
    "\n",
    "\n",
    "#Model Performance Evaluators\n",
    "from sklearn.metrics import classification_report \n",
    "from sklearn.metrics import confusion_matrix \n",
    "from sklearn.metrics import accuracy_score \n",
    "from sklearn.metrics import roc_curve, auc\n",
    "from sklearn.metrics import roc_auc_score\n",
    "from sklearn.metrics import RocCurveDisplay\n",
    "\n",
    "from sklearn.utils.class_weight import compute_class_weight\n",
    "\n",
    "from joblib import parallel_backend\n",
    "from joblib import Parallel, delayed\n"
   ]
  },
  {
   "cell_type": "code",
   "execution_count": 3,
   "metadata": {},
   "outputs": [
    {
     "name": "stdout",
     "output_type": "stream",
     "text": [
      "loading model >>>>>>>>>>>>>>>>>>>>>>>>>>>>>>>>>>>>>\n"
     ]
    }
   ],
   "source": [
    "\n",
    "print('loading model >>>>>>>>>>>>>>>>>>>>>>>>>>>>>>>>>>>>>')\n",
    "\n",
    "mfilename='/shares/kslotkin_share/private/tratnayake/frNAnet/R_FG/URFGmodels/RFC_S05141321_URrp_FG_wg_v1.pkl'\n",
    "\n",
    "# load the model from disk\n",
    "rfc_v1 = pickle.load(open(mfilename, 'rb'))\n"
   ]
  },
  {
   "cell_type": "code",
   "execution_count": 4,
   "metadata": {},
   "outputs": [
    {
     "name": "stdout",
     "output_type": "stream",
     "text": [
      "loading data >>>>>>>>>>>>>>>>>>>>>>>>>>>>>>>>>>>>>\n"
     ]
    }
   ],
   "source": [
    "print('loading data >>>>>>>>>>>>>>>>>>>>>>>>>>>>>>>>>>>>>')\n",
    "\n",
    "comb_df= pd.read_csv('/shares/kslotkin_share/private/tratnayake/frNAnet/R_FG/pred/S10180817_dinuc_df.txt',header=0,sep='\\t')\n",
    "\n"
   ]
  },
  {
   "cell_type": "code",
   "execution_count": 5,
   "metadata": {},
   "outputs": [
    {
     "name": "stdout",
     "output_type": "stream",
     "text": [
      "input shape: >>>>>>>>>>>>>>>>>>>>>>>>>>>>>>>>>>>>>\n",
      "<class 'pandas.core.frame.DataFrame'>\n",
      "RangeIndex: 1246242 entries, 0 to 1246241\n",
      "Data columns (total 23 columns):\n",
      " #   Column   Non-Null Count    Dtype  \n",
      "---  ------   --------------    -----  \n",
      " 0   seq_id   1246242 non-null  object \n",
      " 1   5p       1246242 non-null  int64  \n",
      " 2   3p       1246242 non-null  int64  \n",
      " 3   strand   1246242 non-null  int64  \n",
      " 4   ptype    1246242 non-null  int64  \n",
      " 5   length   1246242 non-null  int64  \n",
      " 6   gc_cont  1246242 non-null  float64\n",
      " 7   AA       1246242 non-null  int64  \n",
      " 8   AC       1246242 non-null  int64  \n",
      " 9   AG       1246242 non-null  int64  \n",
      " 10  AT       1246242 non-null  int64  \n",
      " 11  CA       1246242 non-null  int64  \n",
      " 12  CC       1246242 non-null  int64  \n",
      " 13  CG       1246242 non-null  int64  \n",
      " 14  CT       1246242 non-null  int64  \n",
      " 15  GA       1246242 non-null  int64  \n",
      " 16  GC       1246242 non-null  int64  \n",
      " 17  GG       1246242 non-null  int64  \n",
      " 18  GT       1246242 non-null  int64  \n",
      " 19  TA       1246242 non-null  int64  \n",
      " 20  TC       1246242 non-null  int64  \n",
      " 21  TG       1246242 non-null  int64  \n",
      " 22  TT       1246242 non-null  int64  \n",
      "dtypes: float64(1), int64(21), object(1)\n",
      "memory usage: 218.7+ MB\n"
     ]
    }
   ],
   "source": [
    "print('input shape: >>>>>>>>>>>>>>>>>>>>>>>>>>>>>>>>>>>>>')\n",
    "np.shape(comb_df)\n",
    "\n",
    "\n",
    "\n",
    "shuf_comb_df=comb_df.iloc[np.random.permutation(len(comb_df))]\n",
    "\n",
    "\n",
    "\n",
    "shuf_comb_df=shuf_comb_df.reset_index(drop=True)\n",
    "\n",
    "shuf_comb_df.info()\n"
   ]
  },
  {
   "cell_type": "code",
   "execution_count": 6,
   "metadata": {},
   "outputs": [],
   "source": [
    "ydt=shuf_comb_df['ptype']\n",
    "xdt=shuf_comb_df.drop(['seq_id','ptype'],axis=1)\n"
   ]
  },
  {
   "cell_type": "code",
   "execution_count": 7,
   "metadata": {},
   "outputs": [
    {
     "name": "stdout",
     "output_type": "stream",
     "text": [
      "prediction >>>>>>>>>>>>>>>>>>>>>>>>>>>>>>>>>>>>>>\n"
     ]
    }
   ],
   "source": [
    "with parallel_backend('threading',n_jobs=48 ):\n",
    "\n",
    "    print('prediction >>>>>>>>>>>>>>>>>>>>>>>>>>>>>>>>>>>>>>')\n",
    "    \n",
    "    y_pred = rfc_v1.predict(xdt)"
   ]
  },
  {
   "cell_type": "code",
   "execution_count": 8,
   "metadata": {},
   "outputs": [
    {
     "name": "stdout",
     "output_type": "stream",
     "text": [
      "prediction accuracy score : 0.7400\n",
      "\n",
      "Classification report :\n",
      "               precision    recall  f1-score   support\n",
      "\n",
      "           0       0.83      0.79      0.81    860271\n",
      "           1       0.57      0.64      0.60    385971\n",
      "\n",
      "    accuracy                           0.74   1246242\n",
      "   macro avg       0.70      0.71      0.70   1246242\n",
      "weighted avg       0.75      0.74      0.74   1246242\n",
      "\n"
     ]
    }
   ],
   "source": [
    "print('prediction accuracy score : {0:0.4f}'. format(accuracy_score(ydt, y_pred)))\n",
    "\n",
    "\n",
    "\n",
    "print (\"\\nClassification report :\\n\",(classification_report(ydt,y_pred)))\n",
    "\n",
    "\n"
   ]
  },
  {
   "cell_type": "code",
   "execution_count": 10,
   "metadata": {},
   "outputs": [
    {
     "data": {
      "image/png": "[encoded data removed]",
      "text/plain": [
       "<Figure size 640x480 with 2 Axes>"
      ]
     },
     "metadata": {},
     "output_type": "display_data"
    }
   ],
   "source": [
    "fig1=plt.figure()\n",
    "cm = confusion_matrix(y_true=ydt, y_pred=y_pred)\n",
    "\n",
    "ax = sns.heatmap(cm/np.sum(cm), annot=True,\n",
    "            fmt='.2%', cmap='Blues')\n",
    "\n",
    "ax.set_title(' Test set CM\\n\\n');\n",
    "ax.set_xlabel('Predicted Values')\n",
    "ax.set_ylabel('Actual Values ');\n",
    "\n",
    "## Ticket labels - List must be in alphabetical order\n",
    "ax.xaxis.set_ticklabels(['False','True'])\n",
    "ax.yaxis.set_ticklabels(['False','True'])\n",
    "\n",
    "\n",
    "fig1 = ax.get_figure()\n",
    "\n",
    "fig1.savefig(\"RFC_S10180817_URrp_FG_wg_v1_pred.pdf\")\n"
   ]
  },
  {
   "cell_type": "code",
   "execution_count": null,
   "metadata": {},
   "outputs": [],
   "source": []
  }
 ],
 "metadata": {
  "kernelspec": {
   "display_name": "sickt_ml",
   "language": "python",
   "name": "sickt_ml"
  },
  "language_info": {
   "codemirror_mode": {
    "name": "ipython",
    "version": 3
   },
   "file_extension": ".py",
   "mimetype": "text/x-python",
   "name": "python",
   "nbconvert_exporter": "python",
   "pygments_lexer": "ipython3",
   "version": "3.10.14"
  }
 },
 "nbformat": 4,
 "nbformat_minor": 4
}
