{
 "cells": [
  {
   "cell_type": "code",
   "execution_count": 1,
   "metadata": {},
   "outputs": [],
   "source": [
    "from numpy import array\n",
    "import time\n",
    "import os\n",
    "from itertools import product\n",
    "import pandas as pd\n",
    "import matplotlib.pyplot as plt\n",
    "import numpy as np\n",
    "import seaborn as sns\n",
    "from matplotlib.colors import ListedColormap\n",
    "import pickle\n",
    "\n",
    "\n",
    "from sklearn.model_selection import cross_val_score\n",
    "from sklearn import metrics\n",
    "from sklearn.ensemble import RandomForestClassifier\n",
    "\n",
    "from sklearn.inspection import permutation_importance\n",
    "\n",
    "from sklearn.metrics import classification_report \n",
    "from sklearn.metrics import confusion_matrix \n",
    "from sklearn.metrics import accuracy_score \n",
    "from sklearn.metrics import roc_curve, auc\n",
    "from sklearn.metrics import roc_auc_score\n",
    "from sklearn.metrics import RocCurveDisplay\n",
    "\n",
    "from sklearn.utils.class_weight import compute_class_weight\n",
    "from joblib import parallel_backend\n",
    "from joblib import Parallel, delayed"
   ]
  },
  {
   "cell_type": "code",
   "execution_count": 2,
   "metadata": {},
   "outputs": [],
   "source": [
    "#import data\n",
    "\n",
    "comb_dinuc_df= pd.read_csv('/shares/kslotkin_share/private/tratnayake/frNAnet/SR_UR/S20162204_dinuc_df.txt',header=0,sep='\\t')\n",
    "\n",
    "np.shape(comb_dinuc_df)\n",
    "shuf_comb_dinuc_df=comb_dinuc_df.iloc[np.random.permutation(len(comb_dinuc_df))]\n",
    "shuf_comb_dinuc_df=shuf_comb_dinuc_df.reset_index(drop=True)\n"
   ]
  },
  {
   "cell_type": "code",
   "execution_count": 3,
   "metadata": {},
   "outputs": [],
   "source": [
    "ydt=shuf_comb_dinuc_df['ptype']\n",
    "xdt=shuf_comb_dinuc_df.drop(['seq_id','ptype'],axis=1)\n"
   ]
  },
  {
   "cell_type": "code",
   "execution_count": 4,
   "metadata": {},
   "outputs": [
    {
     "data": {
      "text/plain": [
       "((1138150, 21), (284538, 21))"
      ]
     },
     "execution_count": 4,
     "metadata": {},
     "output_type": "execute_result"
    }
   ],
   "source": [
    "#split test train data\n",
    "Xdt_train, Xdt_test, ydt_train, ydt_test = train_test_split(xdt, ydt, test_size=0.2, random_state=256)\n",
    "Xdt_train.shape, Xdt_test.shape\n"
   ]
  },
  {
   "cell_type": "code",
   "execution_count": 5,
   "metadata": {},
   "outputs": [
    {
     "name": "stdout",
     "output_type": "stream",
     "text": [
      "training >>>>>>>>>>>>>>>>>>>>>>>>>>>>>>>>>>>>>>\n"
     ]
    }
   ],
   "source": [
    "\n",
    "with parallel_backend('threading',n_jobs=48 ):\n",
    "\n",
    "\n",
    "    #print('traing>>>>>>>>>>>>>>>>>>>>>>>>>>>>>>>>>>>>>>')\n",
    "    # Calculate class weights\n",
    "    class_weights = compute_class_weight('balanced', classes=np.unique(ydt_train), y=ydt_train)\n",
    "    class_weights\n",
    "\n",
    "    rfc_dicomb = RandomForestClassifier(random_state=3500,n_estimators = 200,class_weight=dict(enumerate(class_weights) ))\n",
    "\n",
    "\n",
    "    #'n_estimators': 200, 'min_samples_split': 10, 'min_samples_leaf': 2, 'max_features': 'log2', 'max_depth': 100, 'criterion': 'log_loss', 'bootstrap': True\n",
    "\n",
    "#    rfc_dicomb= RandomForestClassifier(\n",
    "#        n_estimators=200,\n",
    "#        criterion='log_loss',\n",
    "#        max_depth=100,\n",
    "#        min_samples_split=10,\n",
    "#        min_samples_leaf=2,\n",
    "#        max_features='log2',\n",
    "#        bootstrap=True,\n",
    "#        n_jobs=16,\n",
    "#        random_state=0,\n",
    "#        class_weight=dict(enumerate(class_weights))\n",
    "#    )\n",
    "\n",
    "\n",
    "    print('training >>>>>>>>>>>>>>>>>>>>>>>>>>>>>>>>>>>>>>')\n",
    "    #model train\n",
    "    rfc_dicomb.fit(Xdt_train, ydt_train)\n",
    "\n",
    "\n",
    "    # Predict the Test set results\n",
    "\n",
    "    y_pred =  rfc_dicomb.predict(Xdt_test)\n",
    "\n"
   ]
  },
  {
   "cell_type": "code",
   "execution_count": 6,
   "metadata": {},
   "outputs": [
    {
     "name": "stdout",
     "output_type": "stream",
     "text": [
      "Model test accuracy : 0.7093\n",
      "\n",
      "Classification report :\n",
      "               precision    recall  f1-score   support\n",
      "\n",
      "           0       0.72      0.62      0.67    133856\n",
      "           1       0.70      0.79      0.74    150682\n",
      "\n",
      "    accuracy                           0.71    284538\n",
      "   macro avg       0.71      0.70      0.70    284538\n",
      "weighted avg       0.71      0.71      0.71    284538\n",
      "\n"
     ]
    }
   ],
   "source": [
    "print('Model test accuracy : {0:0.4f}'. format(accuracy_score(ydt_test, y_pred)))\n",
    "\n",
    "\n",
    "\n",
    "print (\"\\nClassification report :\\n\",(classification_report(ydt_test,y_pred)))\n",
    "\n"
   ]
  },
  {
   "cell_type": "code",
   "execution_count": null,
   "metadata": {},
   "outputs": [],
   "source": [
    "# #save model\n",
    "mfilename='/shares/kslotkin_share/private/tratnayake/frNAnet/models/rfc_S16202204_SRUR_wg_v1.pkl'\n",
    "\n",
    "pickle.dump( rfc_dicomb,open(mfilename,'wb'))\n"
   ]
  },
  {
   "cell_type": "code",
   "execution_count": 8,
   "metadata": {},
   "outputs": [
    {
     "data": {
      "image/png": "[encoded data removed]",
      "text/plain": [
       "<Figure size 640x480 with 2 Axes>"
      ]
     },
     "metadata": {},
     "output_type": "display_data"
    }
   ],
   "source": [
    "fig1=plt.figure()\n",
    "cm = confusion_matrix(y_true=ydt_test, y_pred=y_pred)\n",
    "\n",
    "ax = sns.heatmap(cm/np.sum(cm), annot=True,\n",
    "            fmt='.2%', cmap='Blues')\n",
    "\n",
    "ax.set_title(' Test set CM\\n\\n');\n",
    "ax.set_xlabel('Predicted Values')\n",
    "ax.set_ylabel('Actual Values ');\n",
    "\n",
    "## Ticket labels - List must be in alphabetical order\n",
    "ax.xaxis.set_ticklabels(['False','True'])\n",
    "ax.yaxis.set_ticklabels(['False','True'])\n",
    "\n",
    "\n",
    "fig1 = ax.get_figure()\n",
    "\n",
    "fig1.savefig(\"RFC_SR_UR_S16202204_testset_WG_v1_fullred_0417.pdf\")"
   ]
  }
 ],
 "metadata": {
  "kernelspec": {
   "display_name": "sickt_ml",
   "language": "python",
   "name": "sickt_ml"
  },
  "language_info": {
   "codemirror_mode": {
    "name": "ipython",
    "version": 3
   },
   "file_extension": ".py",
   "mimetype": "text/x-python",
   "name": "python",
   "nbconvert_exporter": "python",
   "pygments_lexer": "ipython3",
   "version": "3.10.14"
  }
 },
 "nbformat": 4,
 "nbformat_minor": 4
}
