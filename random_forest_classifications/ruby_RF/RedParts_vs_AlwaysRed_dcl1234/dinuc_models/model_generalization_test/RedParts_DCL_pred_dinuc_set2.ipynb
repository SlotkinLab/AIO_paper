{
 "cells": [
  {
   "cell_type": "code",
   "execution_count": 2,
   "id": "ff6fbbda-e1ce-42bc-8049-60681c3b90c1",
   "metadata": {},
   "outputs": [],
   "source": [
    "import time\n",
    "import os\n",
    "from itertools import product\n",
    "import pandas as pd\n",
    "import matplotlib.pyplot as plt\n",
    "import numpy as np\n",
    "import seaborn as sns\n",
    "from matplotlib.colors import ListedColormap\n",
    "import pickle\n",
    "from numpy import array\n",
    "\n",
    "from sklearn.model_selection import train_test_split\n",
    "from sklearn.preprocessing import StandardScaler\n",
    "from sklearn.model_selection import cross_val_score\n",
    "from sklearn import metrics\n",
    "\n",
    "\n",
    "from sklearn.utils.class_weight import compute_class_weight\n",
    "from sklearn.ensemble import RandomForestClassifier\n",
    "from sklearn.inspection import permutation_importance\n",
    "\n",
    "from sklearn.metrics import classification_report \n",
    "from sklearn.metrics import confusion_matrix \n",
    "from sklearn.metrics import accuracy_score \n",
    "from sklearn.metrics import RocCurveDisplay\n",
    "\n",
    "from sklearn.metrics import roc_curve, auc, roc_auc_score, precision_recall_curve, average_precision_score\n",
    "\n",
    "from sklearn.datasets import make_classification\n",
    "from sklearn.metrics import log_loss\n",
    "from joblib import parallel_backend\n",
    "from joblib import Parallel, delayed\n",
    "\n",
    "import dask\n",
    "from dask.distributed import Client, progress, LocalCluster, SSHCluster,wait\n",
    "from sklearn.inspection import PartialDependenceDisplay\n",
    "from sklearn.inspection import partial_dependence\n",
    "from PyALE import ale"
   ]
  },
  {
   "cell_type": "code",
   "execution_count": 3,
   "id": "e89f5234-8d6c-4acf-8bf4-2b100e5eec9a",
   "metadata": {},
   "outputs": [
    {
     "name": "stdout",
     "output_type": "stream",
     "text": [
      "loading model >>>>>>>>>>>>>>>>>>>>>>>>>>>>>>>>>>>>>\n"
     ]
    }
   ],
   "source": [
    "print('loading model >>>>>>>>>>>>>>>>>>>>>>>>>>>>>>>>>>>>>')\n",
    "\n",
    "mfilename='/cluster/pixstor/slotkinr-lab/sandaruwan/rubyRF/RP_dcl/models/rfc_rp_dcl_r1r2_tr3_v1.pkl'\n",
    "# load the model from disk\n",
    "rfc_rpdcl_tr4 = pickle.load(open(mfilename, 'rb'))"
   ]
  },
  {
   "cell_type": "code",
   "execution_count": 4,
   "id": "cbfb9b6d-cfeb-427a-9f00-d3b3f46d4767",
   "metadata": {},
   "outputs": [
    {
     "name": "stdout",
     "output_type": "stream",
     "text": [
      "loading data >>>>>>>>>>>>>>>>>>>>>>>>>>>>>>>>>>>>>\n",
      "input shape: >>>>>>>>>>>>>>>>>>>>>>>>>>>>>>>>>>>>>\n",
      "<class 'pandas.core.frame.DataFrame'>\n",
      "RangeIndex: 1378342 entries, 0 to 1378341\n",
      "Data columns (total 23 columns):\n",
      " #   Column   Non-Null Count    Dtype  \n",
      "---  ------   --------------    -----  \n",
      " 0   seq_id   1378342 non-null  object \n",
      " 1   5p       1378342 non-null  int64  \n",
      " 2   3p       1378342 non-null  int64  \n",
      " 3   strand   1378342 non-null  int64  \n",
      " 4   ptype    1378342 non-null  int64  \n",
      " 5   length   1378342 non-null  int64  \n",
      " 6   gc_cont  1378342 non-null  float64\n",
      " 7   AA       1378342 non-null  int64  \n",
      " 8   AC       1378342 non-null  int64  \n",
      " 9   AG       1378342 non-null  int64  \n",
      " 10  AT       1378342 non-null  int64  \n",
      " 11  CA       1378342 non-null  int64  \n",
      " 12  CC       1378342 non-null  int64  \n",
      " 13  CG       1378342 non-null  int64  \n",
      " 14  CT       1378342 non-null  int64  \n",
      " 15  GA       1378342 non-null  int64  \n",
      " 16  GC       1378342 non-null  int64  \n",
      " 17  GG       1378342 non-null  int64  \n",
      " 18  GT       1378342 non-null  int64  \n",
      " 19  TA       1378342 non-null  int64  \n",
      " 20  TC       1378342 non-null  int64  \n",
      " 21  TG       1378342 non-null  int64  \n",
      " 22  TT       1378342 non-null  int64  \n",
      "dtypes: float64(1), int64(21), object(1)\n",
      "memory usage: 241.9+ MB\n"
     ]
    }
   ],
   "source": [
    "print('loading data >>>>>>>>>>>>>>>>>>>>>>>>>>>>>>>>>>>>>')\n",
    "\n",
    "\n",
    "dclsr_df= pd.read_csv('/cluster/pixstor/slotkinr-lab/sandaruwan/rubyRF/RP_dcl/data/rp_dcl_pred/rp_dcl_pr_set2_r1r2_df.txt',header=0,sep='\\t')\n",
    "\n",
    "print('input shape: >>>>>>>>>>>>>>>>>>>>>>>>>>>>>>>>>>>>>')\n",
    "np.shape(dclsr_df)\n",
    "\n",
    "shuf_comb_df=dclsr_df.iloc[np.random.permutation(len(dclsr_df))]\n",
    "shuf_comb_df=shuf_comb_df.reset_index(drop=True)\n",
    "shuf_comb_df.info()"
   ]
  },
  {
   "cell_type": "code",
   "execution_count": 5,
   "id": "ab4ed442-85d6-42d7-9f7c-e44b92be9266",
   "metadata": {},
   "outputs": [],
   "source": [
    "ydt=shuf_comb_df['ptype']\n",
    "xdt=shuf_comb_df.drop(['seq_id','ptype'],axis=1)"
   ]
  },
  {
   "cell_type": "code",
   "execution_count": 6,
   "id": "e2410dd8-1452-43ac-ab99-1e5bf6538ba5",
   "metadata": {},
   "outputs": [
    {
     "name": "stdout",
     "output_type": "stream",
     "text": [
      "prediction >>>>>>>>>>>>>>>>>>>>>>>>>>>>>>>>>>>>>>\n"
     ]
    }
   ],
   "source": [
    "with parallel_backend('threading',n_jobs=64 ):\n",
    "\n",
    "    print('prediction >>>>>>>>>>>>>>>>>>>>>>>>>>>>>>>>>>>>>>')\n",
    "    # Predict the Test set results\n",
    "\n",
    "    y_pred = rfc_rpdcl_tr4.predict(xdt)"
   ]
  },
  {
   "cell_type": "code",
   "execution_count": 7,
   "id": "023a757b-4ce7-409f-a398-588f055a4ccf",
   "metadata": {},
   "outputs": [
    {
     "name": "stdout",
     "output_type": "stream",
     "text": [
      "prediction accuracy score : 0.7334\n",
      "\n",
      "Classification report :\n",
      "               precision    recall  f1-score   support\n",
      "\n",
      "           0       0.73      0.70      0.72    664137\n",
      "           1       0.73      0.76      0.75    714205\n",
      "\n",
      "    accuracy                           0.73   1378342\n",
      "   macro avg       0.73      0.73      0.73   1378342\n",
      "weighted avg       0.73      0.73      0.73   1378342\n",
      "\n"
     ]
    }
   ],
   "source": [
    "from sklearn.metrics import accuracy_score\n",
    "\n",
    "print('prediction accuracy score : {0:0.4f}'. format(accuracy_score(ydt, y_pred)))\n",
    "\n",
    "print (\"\\nClassification report :\\n\",(classification_report(ydt,y_pred)))"
   ]
  },
  {
   "cell_type": "code",
   "execution_count": 8,
   "id": "0c19d418-5055-4823-b831-d7c8d944f15c",
   "metadata": {},
   "outputs": [
    {
     "data": {
      "image/png": "[encoded data removed]",
      "text/plain": [
       "<Figure size 640x480 with 2 Axes>"
      ]
     },
     "metadata": {},
     "output_type": "display_data"
    }
   ],
   "source": [
    "plt.rcParams.update({'font.size': 10})\n",
    "fig1=plt.figure()\n",
    "cm = confusion_matrix(y_true=ydt, y_pred=y_pred)\n",
    "\n",
    "ax = sns.heatmap(cm/np.sum(cm), annot=True,\n",
    "            fmt='.2%', cmap='Blues')\n",
    "\n",
    "ax.set_title(' Test set CM\\n\\n');\n",
    "ax.set_xlabel('Predicted Values')\n",
    "ax.set_ylabel('Actual Values ');\n",
    "\n",
    "## Ticket labels - List must be in alphabetical order\n",
    "ax.xaxis.set_ticklabels(['False','True'])\n",
    "ax.yaxis.set_ticklabels(['False','True'])\n",
    "\n",
    "\n",
    "fig1 = ax.get_figure()\n",
    "fig1.savefig('RF_rpdcl_tr3_pr2_v1.pdf', dpi=400)"
   ]
  }
 ],
 "metadata": {
  "kernelspec": {
   "display_name": "sickt_ml",
   "language": "python",
   "name": "sickt_ml"
  },
  "language_info": {
   "codemirror_mode": {
    "name": "ipython",
    "version": 3
   },
   "file_extension": ".py",
   "mimetype": "text/x-python",
   "name": "python",
   "nbconvert_exporter": "python",
   "pygments_lexer": "ipython3",
   "version": "3.10.14"
  }
 },
 "nbformat": 4,
 "nbformat_minor": 5
}
